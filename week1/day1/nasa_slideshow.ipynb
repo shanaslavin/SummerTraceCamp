{
 "cells": [
  {
   "cell_type": "code",
   "execution_count": 32,
   "metadata": {},
   "outputs": [
    {
     "name": "stdout",
     "output_type": "stream",
     "text": [
      "2003-4-5\n"
     ]
    },
    {
     "data": {
      "text/html": [
       "<img src=\"https://apod.nasa.gov/apod/image/0304/saturnseasons_hst.jpg\"/>"
      ],
      "text/plain": [
       "<IPython.core.display.Image object>"
      ]
     },
     "metadata": {},
     "output_type": "display_data"
    }
   ],
   "source": [
    "import requests\n",
    "import time\n",
    "import random\n",
    "import datetime\n",
    "from IPython.display import Image\n",
    "from datetime import tzinfo, timedelta, datetime\n",
    "from IPython.display import clear_output\n",
    "\n",
    "\n",
    "def random_date():\n",
    "    min_year = 1995\n",
    "    max_year = datetime.now().year\n",
    "    start = datetime(min_year, 1, 1, 00, 00, 00)\n",
    "    years = max_year - min_year+1\n",
    "    end = start + timedelta(days=365 * years)\n",
    "\n",
    "    for i in range(10):\n",
    "        random_date = start + (end - start) * random.random()\n",
    "    \n",
    "    date_corrected = str(random_date.year) + \"-\" + str(random_date.month) + \"-\" + str(random_date.day)\n",
    "    return date_corrected\n",
    "\n",
    "api_key = \"7ywfyjWGHRMiqDqmjTcxsrJMZkaeo0Z4RgftoNxw\"\n",
    "\n",
    "dt = datetime.today()\n",
    "date_corrected = str(dt.year) + \"-\" + str(dt.month) + \"-\" + str(dt.day)\n",
    "\n",
    "images = int(input(\"How many images do you want generated? \"))\n",
    "\n",
    "for number in range(images):\n",
    "    print(date_corrected)\n",
    "    r = requests.get(f'https://api.nasa.gov/planetary/apod?date={date_corrected}&api_key={api_key}')\n",
    "    url = r.json()[\"url\"]\n",
    "    display(Image(url=url))\n",
    "    date_corrected = random_date()\n",
    "    time.sleep(3)\n",
    "    clear_output(wait=True)\n",
    "    \n",
    "    "
   ]
  },
  {
   "cell_type": "code",
   "execution_count": null,
   "metadata": {},
   "outputs": [],
   "source": []
  }
 ],
 "metadata": {
  "kernelspec": {
   "display_name": "Python 3",
   "language": "python",
   "name": "python3"
  },
  "language_info": {
   "codemirror_mode": {
    "name": "ipython",
    "version": 3
   },
   "file_extension": ".py",
   "mimetype": "text/x-python",
   "name": "python",
   "nbconvert_exporter": "python",
   "pygments_lexer": "ipython3",
   "version": "3.7.4"
  }
 },
 "nbformat": 4,
 "nbformat_minor": 2
}
