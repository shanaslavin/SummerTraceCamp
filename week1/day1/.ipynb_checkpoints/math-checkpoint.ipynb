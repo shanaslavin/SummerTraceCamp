{
 "cells": [
  {
   "cell_type": "code",
   "execution_count": 102,
   "metadata": {},
   "outputs": [
    {
     "name": "stdout",
     "output_type": "stream",
     "text": [
      "[3, 4, 5, 6, 7, 8, 9, 10, 11, 12]\n",
      "[3, 4, 5, 6, 7, 8, 9, 10, 11, 12]\n",
      "[1, 8, 27, 64, 125, 216, 343, 512, 729, 1000]\n",
      "[6, 9, 12]\n",
      "[2, 4, 6, 8, 10]\n",
      "[1, 3, 5, 7, 9]\n",
      "[1, 2, 3, 5, 7, 11, 13, 17, 19, 23]\n"
     ]
    }
   ],
   "source": [
    "# using lists\n",
    "\n",
    "def add_2(number):\n",
    "    return number + 2\n",
    "\n",
    "numbers = [1, 2, 3, 4, 5, 6, 7, 8, 9, 10]\n",
    "\n",
    "new_numbers = map(add_2, numbers)\n",
    "print(list(new_numbers))\n",
    "\n",
    "new_comp_numbers = [number+2 for number in numbers]\n",
    "print(new_comp_numbers)\n",
    "\n",
    "sqr_3 = [number**3 for number in numbers]\n",
    "print(sqr_3)\n",
    "\n",
    "div_3 = [number+3 for number in numbers if number%3==0] \n",
    "print(div_3)\n",
    "\n",
    "even = [number for number in numbers if number%2==0]\n",
    "print(even)\n",
    "\n",
    "odd = [number for number in numbers if number%2!=0]\n",
    "print(odd)\n",
    "\n",
    "def is_prime(number):\n",
    "    for num in range(2, number - 1):\n",
    "        if( not (number % num)):\n",
    "            return False\n",
    "    return True\n",
    "\n",
    "# List of numbers 1-26\n",
    "# Iterate through list\n",
    "print([number for number in range(1, 26) if(is_prime(number))])"
   ]
  },
  {
   "cell_type": "code",
   "execution_count": null,
   "metadata": {},
   "outputs": [],
   "source": []
  }
 ],
 "metadata": {
  "kernelspec": {
   "display_name": "Python 3",
   "language": "python",
   "name": "python3"
  },
  "language_info": {
   "codemirror_mode": {
    "name": "ipython",
    "version": 3
   },
   "file_extension": ".py",
   "mimetype": "text/x-python",
   "name": "python",
   "nbconvert_exporter": "python",
   "pygments_lexer": "ipython3",
   "version": "3.7.4"
  }
 },
 "nbformat": 4,
 "nbformat_minor": 2
}
