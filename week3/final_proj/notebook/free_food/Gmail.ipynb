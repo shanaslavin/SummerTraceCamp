{
 "cells": [
  {
   "cell_type": "code",
   "execution_count": 83,
   "metadata": {},
   "outputs": [],
   "source": [
    "from __future__ import print_function\n",
    "import pickle\n",
    "import os.path\n",
    "from googleapiclient.discovery import build\n",
    "from google_auth_oauthlib.flow import InstalledAppFlow\n",
    "from google.auth.transport.requests import Request\n",
    "import datefinder\n",
    "import base64\n",
    "import email\n",
    "\n",
    "# If modifying these scopes, delete the file token.pickle.\n",
    "SCOPES = ['https://www.googleapis.com/auth/gmail.readonly']\n",
    "\n",
    "creds = None\n",
    "def main():\n",
    "    \"\"\"Shows basic usage of the Gmail API.\n",
    "    Lists the user's Gmail labels.\n",
    "    \"\"\"\n",
    "    # The file token.pickle stores the user's access and refresh tokens, and is\n",
    "    # created automatically when the authorization flow completes for the first\n",
    "    # time.\n",
    "    if os.path.exists('token.pickle'):\n",
    "        with open('token.pickle', 'rb') as token:\n",
    "            creds = pickle.load(token)\n",
    "    # If there are no (valid) credentials available, let the user log in.\n",
    "    if not creds or not creds.valid:\n",
    "        if creds and creds.expired and creds.refresh_token:\n",
    "            creds.refresh(Request())\n",
    "        else:\n",
    "            flow = InstalledAppFlow.from_client_secrets_file(\n",
    "                'gmail_credentials.json', SCOPES)\n",
    "            creds = flow.run_local_server(port=0)\n",
    "        # Save the credentials for the next run\n",
    "        with open('token.pickle', 'wb') as token:\n",
    "            print(\"These are the creds\", creds)\n",
    "            pickle.dump(creds, token)\n",
    "\n",
    "    service = build('gmail', 'v1', credentials=creds)\n",
    "\n",
    "    # Call the Gmail API\n",
    "    results = service.users().messages()\n",
    "    user_id = \"birdyanddoggy@gmail.com\"\n",
    "    query = \"free food\"\n",
    "    query_results = results.list(userId= user_id, q=query).execute()\n",
    "#     msg = query_results[\"messages\"][0]\n",
    "#     return results.list(userId= user_id, q=query).execute()\n",
    "#     msg_id =  msg[\"id\"]\n",
    "#     print(msg_id)\n",
    "#     message = service.users().messages().get(userId=user_id, id=msg_id,\n",
    "#                                              format='raw').execute()\n",
    "    \n",
    "#     snippet = message[\"snippet\"]\n",
    "#     msg_str = base64.urlsafe_b64decode(message['raw'].encode('ASCII'))\n",
    "#     print(msg_str, \"\\n\\n\\n\\n\")\n",
    "#     mime_msg = email.message_from_bytes(msg_str)\n",
    "\n",
    "    return query_results\n"
   ]
  },
  {
   "cell_type": "code",
   "execution_count": 146,
   "metadata": {},
   "outputs": [],
   "source": [
    "response = main()"
   ]
  },
  {
   "cell_type": "code",
   "execution_count": 147,
   "metadata": {},
   "outputs": [],
   "source": [
    "def parse_email(message):\n",
    "    content = \"\"\n",
    "    msg_str = base64.urlsafe_b64decode(message['raw'].encode('ASCII'))\n",
    "    mime_msg = email.message_from_bytes(msg_str)\n",
    "    for part in mime_msg.walk():\n",
    "        if(part.get_content_type() == 'text/plain'):\n",
    "            content = content + \" \" + part.get_payload()\n",
    "    return content\n",
    "\n",
    "def get_email(email_id):\n",
    "    service = build('gmail', 'v1', credentials=creds)\n",
    "    message = service.users().messages().get(userId=user_id, id=email_id, format='raw').execute()\n",
    "    return message"
   ]
  },
  {
   "cell_type": "code",
   "execution_count": 161,
   "metadata": {},
   "outputs": [
    {
     "name": "stdout",
     "output_type": "stream",
     "text": [
      "16c8bfc725935780\n",
      "16bfbb368d4e8c2a\n",
      "16b0645f5901e4b9\n",
      "154bb9df10573750\n",
      "151fdb7d16287c3d\n",
      "14174c61d84d2e04\n",
      "140f530732c78b0e\n",
      "140ef56afc51955e\n",
      "140e48eb726a96a9\n",
      "13fe90b6958edefa\n",
      "13eb59ed8d7e0569\n",
      "13e873fd12d4d0d8\n",
      "13e873730d88227a\n"
     ]
    }
   ],
   "source": [
    "for message in response[\"messages\"]:\n",
    "    email_obj = get_email(message[\"id\"])\n",
    "    message[\"body\"] = parse_email(email_obj)\n",
    "\n",
    "    print(message[\"id\"])\n"
   ]
  },
  {
   "cell_type": "code",
   "execution_count": 149,
   "metadata": {},
   "outputs": [
    {
     "data": {
      "text/plain": [
       "\" We'd like to invite you to an event on Saturday, August 17th 2019 at 6pm.\\r\\nThere will be free food.\\r\\n\""
      ]
     },
     "execution_count": 149,
     "metadata": {},
     "output_type": "execute_result"
    }
   ],
   "source": [
    "message[\"body\"]"
   ]
  },
  {
   "cell_type": "code",
   "execution_count": 129,
   "metadata": {},
   "outputs": [
    {
     "data": {
      "text/plain": [
       "{'messages': [{'id': '16c8bfc725935780',\n",
       "   'threadId': '16c8bfc725935780',\n",
       "   'body': \" We'd like to invite you to an event on Saturday, August 17th 2019 at 6pm.\\r\\nThere will be free food.\\r\\n\"},\n",
       "  {'id': '16bfbb368d4e8c2a',\n",
       "   'threadId': '16bfbb368d4e8c2a',\n",
       "   'body': ' Lucky I saved them on the computer.:)Im trying to be more techy\\r\\n\\r\\n\\r\\nWhat have you done for humankind today?\\r\\n\\r\\nSandra Slavin=C2=A0=C2=A0'},\n",
       "  {'id': '16b0645f5901e4b9', 'threadId': '16b0645f5901e4b9', 'body': ' \\r\\n'},\n",
       "  {'id': '154bb9df10573750', 'threadId': '154bb9df10573750', 'body': ' \\r\\n'},\n",
       "  {'id': '151fdb7d16287c3d',\n",
       "   'threadId': '151fdb7d16287c3d',\n",
       "   'body': ' ~~~~~~~~~~~~~~~~~~~~~~~~~~~~~~~~~~~~~~~~~~~~~~~~~~~~~~~~~~~~~~~~~~~~~~~~~~~~~~~~\\r\\n\\r\\nFrom All is Well to you!\\r\\n~~~~~~~~~~~~~~~~~~~~~~~~~~~~~~~~~~~~~~~~~~~~~~~~~~~~~~~~~~~~~~~~~~~~~~~~~~~~~~~~\\r\\n\\r\\nAIW Logo [http://r20.rs6.net/tn.jsp?f=001P9pWpeglMVDuBzDY98cbrP7DEvvhS9yj3i5dl4GOSwP0G6l8RCJxXhBVHCYsfhufZu4Vf0onDAZ3neykmMQaCBf3I4R_4tdcOhlLkxEHuxV1zybrV2t_JRbmTP0J9HvvgBcjSVxiEKz9jP0bWDFQkOf34edNZJytoYcMkBBHLc0=&c=Iq4EUu_95W7URfJ5khMYe_T-ws9b8XqRIK33cdznIDwN6z5RpcPBlA==&ch=3RMiNIvvvnak3tMA1QfIpabZ1XDcIodO6A93nzyUW9O28KJCsWR27w==]\\r\\n~~~~~~~~~~~~~~~~~~~~~~~~~~~~~~~~~~~~~~~~~~~~~~~~~~~~~~~~~~~~~~~~~~~~~~~~~~~~~~~~\\r\\n\\r\\nNew Year\\'s Resolutions\\r\\n~~~~~~~~~~~~~~~~~~~~~~~~~~~~~~~~~~~~~~~~~~~~~~~~~~~~~~~~~~~~~~~~~~~~~~~~~~~~~~~~\\r\\n\\r\\nEvery day is \"New Year\\'s Day\" to our pets, don\\'t you think?\\r\\n\\r\\nThey live in the moment, not worrying about the past or the future. They may recall\\r\\nthings from their past, but they don\\'t dwell there. They are great teachers for \\r\\nus humans, which is part of the reason we love them so much! If you have any resolutions\\r\\nfor 2016, maybe one of them could be to live more like your pets.\\r\\nGrooming\\r\\n\\r\\nWant to get your dog on our James Island grooming schedule? We have openings starting\\r\\nlater this month and would love to add your dog in! We groom Tuesday through Friday,\\r\\nand all dogs come in between 7:30 and 8:30am. Please call, message, or stop by the\\r\\nstore for more details.\\r\\nTreat Your Pets\\r\\nIf you over-treated your pets this past holiday season (and, really, how could you\\r\\nnot?), here\\'s a little recipe you can make to help sooth the belly and boost their\\r\\nimmunity. You could also give our Product of the Month a try for the same purposes!\\r\\nVenison Mush\\r\\nThis colorful blend is laden with amino acids, antioxidants, fiber, and healthy \\r\\nfats.\\r\\nIngredients:\\r\\n3 cups venison, diced into bite-sized pieces appropriate for your pet(s)\\r\\n1/2 cup fresh or frozen papaya dices\\r\\n1/2 cup fresh or frozen peas\\r\\n1/4 cup plain full-fat yogurt\\r\\n1/4 cup ground flaxseed meal\\r\\n2 tbsp organic raw apple cider vinegar\\r\\n2 free range eggs\\r\\n*note - we recommend organic, local ingredients if possible!\\r\\nWhat to do:\\r\\n1. Combine all the ingredients in a large mixing bowl and stir thoroughly.\\r\\n2. Store in a covered container in the refrigerator for up to 2 days.\\r\\n3. Serve in size-appropriate portions for your pets.\\r\\n*Organic raw apple cider vinegar is often recommended by holistic vets for a wealth\\r\\nof different ailments in dogs & cats including allergies, arthritis, hot spots, \\r\\nloss of appetite, and ear infections. It also helps to establish correct pH balance\\r\\nin the body.\\r\\nPaint Your Pet with Wine & Design\\r\\n\\r\\nThe events we hosted at both of our stores were such a success that we are going\\r\\n to plan to do it again. We know a lot of you missed out on the deadline or being\\r\\nable to participate for various reasons, and asked if we had other dates set. We\\'re\\r\\nlooking to have another one in February, so stay tuned!\\r\\n~~~~~~~~~~~~~~~~~~~~~~~~~~~~~~~~~~~~~~~~~~~~~~~~~~~~~~~~~~~~~~~~~~~~~~~~~~~~~~~~\\r\\n~~~~~~~~~~~~~~~~~~~~~~~~~~~~~~~~~~~~~~~~~~~~~~~~~~~~~~~~~~~~~~~~~~~~~~~~~~~~~~~~\\r\\n\\r\\nProduct of the Month\\r\\nPrimal Raw Goat Milk\\r\\nElevate your pet\\'s health with this Raw Goat Milk! Raw goat milk is known as universal\\r\\nmilk, as it can be easily absorbed by a variety of mammals. It contains vitamins,\\r\\nminerals, electrolytes, trace elements, enzymes, protein, and fatty acids.\\r\\nPrimal Raw Goat Milk makes a great digestive aid for cats & dogs and is a tasty \\r\\nway to help meet their daily needs of moisture in their diet. Because it is so easily\\r\\ndigested, the nutrients are absorbed and assimilated quickly. This is a wonderful\\r\\naddition to the diet for sick or senior pets as well as those having digestive issues.\\r\\nIt\\'s great for all life stages and is also recommended as a replacement for mother\\'s\\r\\nmilk with kittens.\\r\\nPrimal adds the following to their raw goat milk:\\r\\n\\r\\n* Cinnamon - antibacterial/antifungal and can assist with arthritis & muscular inflammation\\r\\n* Ginger - digestive aid and antioxidant\\r\\n* Turmeric - anti-inflammatory, antioxidant, detoxifier, and anti-cancer\\r\\n* Lactobacillus Acidophilus - increases immune resistance against harmful bacteria\\r\\n& fungi, helps control intestinal infections, reducing the potential of diarrhea\\r\\n and other infections or diseases\\r\\n* Lactobacillus Lactis - helps synthesize folate & riboflavin (key B vitamins), \\r\\nproduces large amounts of lactic acid, and may aid in treatment of IBD\\r\\n* Enterococcus Faecium - provides nutritional support in the event of diarrheal \\r\\ndiseases\\r\\nPrimal gets their raw goat milk from Summerhill Goat Dairy, a family farm in California.\\r\\nThe goats are hormone & antibiotic free, and are fed natural and pure hay and grasses.\\r\\nTheir goats are free range and given plenty of room to run and graze. All batches\\r\\nof Primal Goat Milk are tested for Salmonella, E-coli and Listeria prior to release\\r\\nfor distribution.\\r\\nPrimal Raw Goat Milk is 10% off this month.\\r\\n~~~~~~~~~~~~~~~~~~~~~~~~~~~~~~~~~~~~~~~~~~~~~~~~~~~~~~~~~~~~~~~~~~~~~~~~~~~~~~~~\\r\\n~~~~~~~~~~~~~~~~~~~~~~~~~~~~~~~~~~~~~~~~~~~~~~~~~~~~~~~~~~~~~~~~~~~~~~~~~~~~~~~~\\r\\n\\r\\nQuote of the Month\\r\\n\"You are never too old to set another goal or dream a new dream.\"\\r\\n~ C.S. Lewis\\r\\n~~~~~~~~~~~~~~~~~~~~~~~~~~~~~~~~~~~~~~~~~~~~~~~~~~~~~~~~~~~~~~~~~~~~~~~~~~~~~~~~\\r\\n~~~~~~~~~~~~~~~~~~~~~~~~~~~~~~~~~~~~~~~~~~~~~~~~~~~~~~~~~~~~~~~~~~~~~~~~~~~~~~~~\\r\\n\\r\\nPet Trivia\\r\\nThe prize for this month\\'s triva is a bag of Vital Essentials Freeze-Dried Minnows\\r\\nfor cats. Just reply to this email, and we\\'ll pick a winner from the correct entries.\\r\\nThe best thing about Primal Raw Goat Milk is:\\r\\nA. it\\'s universal milk, easily absorbed by most mammals\\r\\nB. it\\'s produced from free-range, antibiotic and hormone free goats\\r\\nC. it has added supplements to boost the immune & digestive systems\\r\\nD. it is assimilated by the body quickly\\r\\nE. it has added probiotics\\r\\nF. all of the above\\r\\nWhat do you think...???\\r\\nLast month, we asked for stories about your pets and why you\\'re grateful for them.\\r\\nThank you so much for the heart-felt emails! We really enjoyed reading them, and\\r\\n decided to give away TWO self-serve pet washes instead of just one. So congratulations,\\r\\nSandra Mixson and Donna Dana! You may redeem your free washes anytime over the next\\r\\n3 months.\\r\\nThanks for all the responses!  Keep trying, this could be your month to win!!\\r\\n~~~~~~~~~~~~~~~~~~~~~~~~~~~~~~~~~~~~~~~~~~~~~~~~~~~~~~~~~~~~~~~~~~~~~~~~~~~~~~~~\\r\\n~~~~~~~~~~~~~~~~~~~~~~~~~~~~~~~~~~~~~~~~~~~~~~~~~~~~~~~~~~~~~~~~~~~~~~~~~~~~~~~~\\r\\n~~~~~~~~~~~~~~~~~~~~~~~~~~~~~~~~~~~~~~~~~~~~~~~~~~~~~~~~~~~~~~~~~~~~~~~~~~~~~~~~\\r\\n\\r\\nOn and Off Leash Events\\r\\n\\r\\n* Dog Wash Donation Day is the 2nd Saturday of each month. This month our proceeds\\r\\nare going to Hallie Hill Animal Sanctuary [http://r20.rs6.net/tn.jsp?f=001P9pWpeglMVDuBzDY98cbrP7DEvvhS9yj3i5dl4GOSwP0G6l8RCJxXsTpduSV-ZNDdtR2UKSu3AmuCAL5MAhvjOv1Yp-FE2klim8Q4WAh3xSOrXXnRx_KoVQVsa2u2gr-ahArtnwkCfJRjy2o2xH0GKbR5JjLEWVwSts5o0RiKjQ=&c=Iq4EUu_95W7URfJ5khMYe_T-ws9b8XqRIK33cdznIDwN6z5RpcPBlA==&ch=3RMiNIvvvnak3tMA1QfIpabZ1XDcIodO6A93nzyUW9O28KJCsWR27w==].\\r\\nHalli Hill is a no-kill non-profit organization that provides sanctuary for abandoned,\\r\\nabused, or neglected animals- a home with food, medical care,shelter and love. Check\\r\\nout their website to see all the great work they are doing!\\r\\n* Mt. Pleasant/IOP delivery is every Tuesday. Please place your order on our website\\r\\nthe Saturday before by noon.\\r\\nFurther details for these events can be found on our website at:\\r\\nCalendar of Pet Events [http://r20.rs6.net/tn.jsp?f=001P9pWpeglMVDuBzDY98cbrP7DEvvhS9yj3i5dl4GOSwP0G6l8RCJxXpdpsTgUzvGel9AO6jhbuGOOvzolv0j2MIN87Je_rwktQ4CL4j7I0TqnXPAi8TsbUNZovDC4sTPXejCZFUh3hMJPU9DKrPIKSlJYYmqDfSuzf9BbZb40Sx0YJ1VyZuS2A00SVGnZqIJ2&c=Iq4EUu_95W7URfJ5khMYe_T-ws9b8XqRIK33cdznIDwN6z5RpcPBlA==&ch=3RMiNIvvvnak3tMA1QfIpabZ1XDcIodO6A93nzyUW9O28KJCsWR27w==]\\r\\n~~~~~~~~~~~~~~~~~~~~~~~~~~~~~~~~~~~~~~~~~~~~~~~~~~~~~~~~~~~~~~~~~~~~~~~~~~~~~~~~\\r\\n~~~~~~~~~~~~~~~~~~~~~~~~~~~~~~~~~~~~~~~~~~~~~~~~~~~~~~~~~~~~~~~~~~~~~~~~~~~~~~~~\\r\\n\\r\\nThank you all for your continued support of All is Well!  We strive to help educate\\r\\nall of our customers, and encourage you all to keep learning and growing.  Just \\r\\nbecause something has \\'always been done that way\\', doesn\\'t make it necessarily \\'right\\'!\\r\\nSincerely, All Is Well\\r\\n~~~~~~~~~~~~~~~~~~~~~~~~~~~~~~~~~~~~~~~~~~~~~~~~~~~~~~~~~~~~~~~~~~~~~~~~~~~~~~~~\\r\\n\\r\\nAll Is Well | 843.795.2001 (JI) or 843.573.2288 (WA) |  alliswellpet.com [http://r20.rs6.net/tn.jsp?f=001P9pWpeglMVDuBzDY98cbrP7DEvvhS9yj3i5dl4GOSwP0G6l8RCJxXhBVHCYsfhufZu4Vf0onDAZ3neykmMQaCBf3I4R_4tdcOhlLkxEHuxV1zybrV2t_JRbmTP0J9HvvgBcjSVxiEKz9jP0bWDFQkOf34edNZJytoYcMkBBHLc0=&c=Iq4EUu_95W7URfJ5khMYe_T-ws9b8XqRIK33cdznIDwN6z5RpcPBlA==&ch=3RMiNIvvvnak3tMA1QfIpabZ1XDcIodO6A93nzyUW9O28KJCsWR27w==]\\r\\n~~~~~~~~~~~~~~~~~~~~~~~~~~~~~~~~~~~~~~~~~~~~~~~~~~~~~~~~~~~~~~~~~~~~~~~~~~~~~~~~\\r\\n\\r\\nSTAY CONNECTED:\\r\\n\\r\\nFacebook [http://r20.rs6.net/tn.jsp?f=001P9pWpeglMVDuBzDY98cbrP7DEvvhS9yj3i5dl4GOSwP0G6l8RCJxXhBVHCYsfhufZu4Vf0onDAZ3neykmMQaCBf3I4R_4tdcOhlLkxEHuxV1zybrV2t_JRbmTP0J9HvvgBcjSVxiEKz9jP0bWDFQkOf34edNZJytoYcMkBBHLc0=&c=Iq4EUu_95W7URfJ5khMYe_T-ws9b8XqRIK33cdznIDwN6z5RpcPBlA==&ch=3RMiNIvvvnak3tMA1QfIpabZ1XDcIodO6A93nzyUW9O28KJCsWR27w==]\\r\\n\\r\\nLinkedIn [http://r20.rs6.net/tn.jsp?f=001P9pWpeglMVDuBzDY98cbrP7DEvvhS9yj3i5dl4GOSwP0G6l8RCJxXhBVHCYsfhufZu4Vf0onDAZ3neykmMQaCBf3I4R_4tdcOhlLkxEHuxV1zybrV2t_JRbmTP0J9HvvgBcjSVxiEKz9jP0bWDFQkOf34edNZJytoYcMkBBHLc0=&c=Iq4EUu_95W7URfJ5khMYe_T-ws9b8XqRIK33cdznIDwN6z5RpcPBlA==&ch=3RMiNIvvvnak3tMA1QfIpabZ1XDcIodO6A93nzyUW9O28KJCsWR27w==]\\r\\n\\r\\n~~~~~~~~~~~~~~~~~~~~~~~~~~~~~~~~~~~~~~~~~~~~~~~~~~~~~~~~~~~~~~~~~~~~~~~~~~~~~~~~\\r\\nForward this email\\r\\nhttp://ui.constantcontact.com/sa/fwtf.jsp?llr=nq8rxxcab&m=1102455565837&ea=$birdyanddoggy@gmail.com$&a=1123154704512\\r\\n\\r\\nThis email was sent to birdyanddoggy@gmail.com by pnoe@alliswellpet.com.\\r\\n\\r\\nUpdate Profile/Email Address\\r\\nhttp://visitor.constantcontact.com/do?p=oo&m=001shv64wmH9KXtXaZm2VLtkw%3D%3D&ch=b4fcbd70-1f3f-11e3-9e1e-d4ae5292c4bc&ca=52354555-e22a-4843-a154-fc898a14fd1f\\r\\n\\r\\n\\r\\nInstant removal with SafeUnsubscribe(TM)\\r\\nhttp://visitor.constantcontact.com/do?p=un&m=001shv64wmH9KXtXaZm2VLtkw%3D%3D&ch=b4fcbd70-1f3f-11e3-9e1e-d4ae5292c4bc&ca=52354555-e22a-4843-a154-fc898a14fd1f\\r\\n\\r\\n\\r\\nPrivacy Policy:\\r\\nhttp://www.constantcontact.com/legal/service-provider?cc=about-service-provider\\r\\n\\r\\nOnline Marketing by\\r\\nConstant Contact(R)\\r\\nwww.constantcontact.com\\r\\n\\r\\n\\r\\n\\r\\nAll Is Well | 3417 B Shelby Ray Court 29414 | 1409 D Folly Road | Charleston | SC | 29412'},\n",
       "  {'id': '14174c61d84d2e04',\n",
       "   'threadId': '14174c61d84d2e04',\n",
       "   'body': ' \\r\\nFrom All Is Well, To You!\\r\\n~~~~~~~~~~~~~~~~~~~~~~~~~~~~~~~~~~~~~~~~~~~~~~~~~~~~~~~~~~~~~~~~~~~~~~~~~~~~~~~~\\r\\n\\r\\nAll Is Well Newsletter\\r\\nOctober 2013\\r\\n~~~~~~~~~~~~~~~~~~~~~~~~~~~~~~~~~~~~~~~~~~~~~~~~~~~~~~~~~~~~~~~~~~~~~~~~~~~~~~~~\\r\\n\\r\\nIN THIS ISSUE\\r\\n\\r\\nPRODUCT OF THE MONTH\\r\\nQUOTE OF THE MONTH\\r\\nPET TRIVIA?\\r\\nPET EVENTS\\r\\n\\r\\n~~~~~~~~~~~~~~~~~~~~~~~~~~~~~~~~~~~~~~~~~~~~~~~~~~~~~~~~~~~~~~~~~~~~~~~~~~~~~~~~\\r\\n\\r\\nBig Changes at All is Well\\r\\nAfter much thought and consideration, we have decided to consolidate the Mt Pleasant\\r\\nAll is Well into the James Island and West Ashley locations. Our lease is ending,\\r\\nso we feel it\\'s time to simplify our lives a bit. The last day All is Well - Mt \\r\\nPleasant will be open is November 8th.\\r\\nThis was a very difficult decision. We are so thankful to have gotten to know our\\r\\nMt Pleasant customers and their furry family members over the last 5 years! It has\\r\\nbeen a pleasure and an honor for you to trust us with your pets; you have no idea\\r\\nhow much this means to us. We hope to see your smiling faces and wagging tails at\\r\\nthe James Island and West Ashley locations, or online at www.alliswellpet.com [http://r20.rs6.net/tn.jsp?f=001S8CEDswRs0hLz35NySUy-Ta37HcD-jVGsBySd3XXrcrKW3X5ParAm_n6iJrnNt-FUf82FkyGx4sZLX-Fp2tnvClGGniV8eTnK-YtclwjLvyqrs6UsEakqvEpRViUU7mPa2GMzJ6JHJXOJyS4bTjnpFk_ziZsO73J2QOfQZtBrt0=&c=ezDhfNiQnrirNgSJ1KZg37KPVOpc8TANbFNXgT5iw5u7W3IKI4emRQ==&ch=3Dgi8gjIs7COoA1hzM_z-dk9dctyktTHqKfItqT7PaVO8X5KVYzliw==].\\r\\nNew Website & Online Store!\\r\\nWe are very excited to announce our new website and online store! Now,  All is Well\\r\\ncustomers have the option of buying their favorite products  at www.alliswellpet.com\\r\\n[http://r20.rs6.net/tn.jsp?f=001S8CEDswRs0hLz35NySUy-Ta37HcD-jVGsBySd3XXrcrKW3X5ParAm_n6iJrnNt-FUf82FkyGx4sZLX-Fp2tnvClGGniV8eTnK-YtclwjLvyqrs6UsEakqvEpRViUU7mPa2GMzJ6JHJXOJyS4bTjnpFk_ziZsO73J2QOfQZtBrt0=&c=ezDhfNiQnrirNgSJ1KZg37KPVOpc8TANbFNXgT5iw5u7W3IKI4emRQ==&ch=3Dgi8gjIs7COoA1hzM_z-dk9dctyktTHqKfItqT7PaVO8X5KVYzliw==]\\r\\nand having them shipped right to their homes. There is also an in-store pickup option\\r\\nso you can reserve your items online and pick them up at our James Island or West\\r\\nAshley locations. We hope to also reach customers across the country who don\\'t have\\r\\na good pet food store nearby but want to give their pets the best nutrition possible.\\r\\nCheck out the new site when you get a chance and let us know what you think!\\r\\nMake Room Sale\\r\\nTo make room for our Mt Pleasant store consolidation, all three locations are having\\r\\na Buy 1, Get 1 50% Off Sale on toys and treats. This offer is good through the month\\r\\nof October only, so come in and stock up while you can!\\r\\n\\r\\nPlease enjoy this newsletter!\\r\\n~~~~~~~~~~~~~~~~~~~~~~~~~~~~~~~~~~~~~~~~~~~~~~~~~~~~~~~~~~~~~~~~~~~~~~~~~~~~~~~~\\r\\n\\r\\nProduct of the Month\\r\\nK9 Ear Solutions\\r\\nK9 Ear Solutions\\r\\n\\r\\nis a specially formulated liquid solution to clean, dry, and deodorize the ear canal.\\r\\nIt contains isopropyl alcohol, boric acid, gentian violet and colloidal silver.\\r\\n\\r\\nK9 Ear Solutions is a safe and effective aid in maintaining good ear hygiene. It\\'s\\r\\neasy to use and helps deodorize and clean odors associated with the ears. It contains:\\r\\n\\r\\nIsopropyl Alcohol - is a good disinfectant because of its ability to coagulate a\\r\\n germs protein which causes the germ cells to die.\\r\\n\\r\\nBoric Acid - is used to dry and acidify the ear. Yeast and bacteria are opportunistic\\r\\norganisms that thrive in a dark, wet environment and die in a dry, acidic environment.\\r\\nThe boric acid helps to kill any yeast and bacteria in the ears.\\r\\n\\r\\nGentian Violet - is an antiseptic dye used to treat fungal infections of the skin.\\r\\nFor this reason, it helps rid the ears of any yeast that may be present. Gentian\\r\\n violet also has weak antibacterial effects and may be used on minor cuts and scrapes\\r\\nto prevent infection. If any cuts are scrapes are present in the ear, gentian violet\\r\\nwill help them to heal.\\r\\n\\r\\nColloidal Silver - It is a safe and proven topical antibiotic. Topically, it can\\r\\n be used to fight fungal infections of the skin or nails and to promote the healing\\r\\nof burns, wounds, cuts, rashes, and sunburn.\\r\\n\\r\\nK9 ear solutions can be used as a safe and effective ear cleaner. It should be used\\r\\nfor dogs that have yeast infections in their ears or cuts and scrapes that need \\r\\nto be healed.\\r\\n\\r\\nClick HERE [http://r20.rs6.net/tn.jsp?f=001S8CEDswRs0hLz35NySUy-Ta37HcD-jVGsBySd3XXrcrKW3X5ParAmya91asL8BadMfqAy-tUF_XIvEmM3GNIgViPmgMdVwYxa9N0Uay3pNtERk82sclNyNqTNpDvQVtmJrg49QaTO3gbJAZ-mghp0yZNc54DK6p0igitt-1Su11Anmft30YxdnE43zXEmoWf3OHo7aQnf8OUP_lsag0JIA==&c=ezDhfNiQnrirNgSJ1KZg37KPVOpc8TANbFNXgT5iw5u7W3IKI4emRQ==&ch=3Dgi8gjIs7COoA1hzM_z-dk9dctyktTHqKfItqT7PaVO8X5KVYzliw==]\\r\\nto find out more!!\\r\\n\\r\\nSee coupon below for 10% off K9 Ear Solutions!\\r\\n~~~~~~~~~~~~~~~~~~~~~~~~~~~~~~~~~~~~~~~~~~~~~~~~~~~~~~~~~~~~~~~~~~~~~~~~~~~~~~~~\\r\\n\\r\\nQuote of the Month!\\r\\n\"If you do not change direction, you may end up where you are heading.\"\\r\\nLao Tzu\\r\\n~~~~~~~~~~~~~~~~~~~~~~~~~~~~~~~~~~~~~~~~~~~~~~~~~~~~~~~~~~~~~~~~~~~~~~~~~~~~~~~~\\r\\n\\r\\nPet Trivia?\\r\\n\\r\\nThis month\\'s trivia contest will be for a free trial size bag of Stella & Chewy\\'s\\r\\nRaw Frozen dog and cat food. All you have to do is reply to this email with the \\r\\ncorrect answer, and one winner will be selected from the correct entries!  Here \\r\\nwe go:\\r\\n\\r\\nTrue or False:\\r\\n\\r\\nCollodial Silver can be used to treat fungal infections.\\r\\nWhat do you think...???\\r\\n\\r\\nLast month\\'s winner was Kim Bryan. Kim knew that Halo Dream coat creates a high \\r\\ntolerance to flea bites, supports kidney and liver functions, and promotes faster\\r\\nwound healing and less shedding. She can pick up her prize, a free trial size bag\\r\\nof Stella & Chewy\\'s Raw Frozen dog and cat food, at the All is Well location of \\r\\nher choosing.\\r\\nThanks for all the responses!  Keep trying, this could be your month to win!!\\r\\n~~~~~~~~~~~~~~~~~~~~~~~~~~~~~~~~~~~~~~~~~~~~~~~~~~~~~~~~~~~~~~~~~~~~~~~~~~~~~~~~\\r\\n\\r\\nON AND OFF LEASH EVENTS:\\r\\n\\r\\n*\\r\\nAnimal Communication with Barbara Rawson will be held at the James Island store \\r\\nSaturday, October 26h from 10am-1:20pm. Please call 795-2001 to reserve your spot!\\r\\n* Yappy Hour will be held at the James Island County Park from 4pm-sunset Thursday,\\r\\nOctober 10th. Click here [http://www.ccprc.com/index.aspx?nid=1181] for more details!\\r\\n~~~~~~~~~~~~~~~~~~~~~~~~~~~~~~~~~~~~~~~~~~~~~~~~~~~~~~~~~~~~~~~~~~~~~~~~~~~~~~~~\\r\\n\\r\\nQUICK LINKS\\r\\nMore About Us [http://r20.rs6.net/tn.jsp?f=001S8CEDswRs0hLz35NySUy-Ta37HcD-jVGsBySd3XXrcrKW3X5ParAm_n6iJrnNt-FByk_dNtCoJQiM9mJpRtK1sXIwTFbSv3MeinqdaJLjF7ugSJPiqIDh-09q8Yz5qo93RnbnHSGEL5Q1hffzopBAppAhTxzt20kXfOdqBzfGHQ_ajeR1AEARw==&c=ezDhfNiQnrirNgSJ1KZg37KPVOpc8TANbFNXgT5iw5u7W3IKI4emRQ==&ch=3Dgi8gjIs7COoA1hzM_z-dk9dctyktTHqKfItqT7PaVO8X5KVYzliw==]\\r\\n~~~~~~~~~~~~~~~~~~~~~~~~~~~~~~~~~~~~~~~~~~~~~~~~~~~~~~~~~~~~~~~~~~~~~~~~~~~~~~~~\\r\\n\\r\\nJoin Our Mailing List [http://visitor.r20.constantcontact.com/email.jsp?m=1102455565837]\\r\\n~~~~~~~~~~~~~~~~~~~~~~~~~~~~~~~~~~~~~~~~~~~~~~~~~~~~~~~~~~~~~~~~~~~~~~~~~~~~~~~~\\r\\n\\r\\nThank you all for your continued support of All is Well!  We strive to help educate\\r\\nall of our customers, and encourage you all to keep learning and growing.  Just \\r\\nbecause something has \\'always been done that way\\', doesn\\'t make it necessarily \\'right\\'!\\r\\n\\r\\nFrom All Is Well!\\r\\n~~~~~~~~~~~~~~~~~~~~~~~~~~~~~~~~~~~~~~~~~~~~~~~~~~~~~~~~~~~~~~~~~~~~~~~~~~~~~~~~\\r\\n\\r\\nSave 10%\\r\\n\\r\\non\\r\\n\\r\\nK9 Ear Solutions\\r\\n\\r\\nat All is Well\\r\\n\\r\\nJames Island, Mt Pleasant, and West Ashley\\r\\n\\r\\nOffer Expires: October 31st, 2013\\r\\n\\r\\n~~~~~~~~~~~~~~~~~~~~~~~~~~~~~~~~~~~~~~~~~~~~~~~~~~~~~~~~~~~~~~~~~~~~~~~~~~~~~~~~\\r\\n\\r\\nForward email\\r\\nhttp://ui.constantcontact.com/sa/fwtf.jsp?llr=nq8rxxcab&m=1102455565837&ea=birdyanddoggy@gmail.com&a=1115105332127\\r\\n\\r\\n\\r\\nThis email was sent to birdyanddoggy@gmail.com by aevans@alliswellpet.com.\\r\\n\\r\\nUpdate Profile/Email Address\\r\\nhttp://visitor.constantcontact.com/do?p=oo&m=001shv64wmH9KXtXaZm2VLtkw%3D%3D&ch=b4fcbd70-1f3f-11e3-9e1e-d4ae5292c4bc&ca=89597c76-9388-4cc6-b6a8-1636af11814f\\r\\n\\r\\n\\r\\nInstant removal with SafeUnsubscribe(TM)\\r\\nhttp://visitor.constantcontact.com/do?p=un&m=001shv64wmH9KXtXaZm2VLtkw%3D%3D&ch=b4fcbd70-1f3f-11e3-9e1e-d4ae5292c4bc&ca=89597c76-9388-4cc6-b6a8-1636af11814f\\r\\n\\r\\n\\r\\nPrivacy Policy:\\r\\nhttp://ui.constantcontact.com/roving/CCPrivacyPolicy.jsp\\r\\n\\r\\n\\r\\nOnline Marketing by\\r\\nConstant Contact(R)\\r\\nwww.constantcontact.com\\r\\n\\r\\n\\r\\nAll Is Well: | James Island, Mt Pleasant, West Ashley | Charleston | SC | 29412'},\n",
       "  {'id': '140f530732c78b0e',\n",
       "   'threadId': '140f530732c78b0e',\n",
       "   'body': ' To view this mail in a browser, copy http://links.mkt1150.com/servlet/MailView?ms=MTc4NzE1MDAS1&r=NzI3MzIzMTYzNAS2&j=MjI3MjE1NjE3S0&mt=1&rt=0 into your browser.\\r\\nClick http://links.mkt1150.com/ctt?kn=6&ms=MTc4NzE1MDAS1&r=NzI3MzIzMTYzNAS2&b=2&j=MjI3MjE1NjE3S0&mt=1&rt=0 for the latest DogChannel.com newsletter         \\r\\n\\r\\nI-5 Publishing, LLC\\r\\n3 Burroughs \\r\\nIrvine, CA  92618         \\r\\n\\r\\nClick here to read our Privacy Policy http://links.mkt1150.com/ctt?kn=13&ms=MTc4NzE1MDAS1&r=NzI3MzIzMTYzNAS2&b=2&j=MjI3MjE1NjE3S0&mt=1&rt=0.         \\r\\n\\r\\nThis email was intended for birdyanddoggy@gmail.com\\r\\n         \\r\\nIf you want to unsubscribe from our list or update your preferences, please click here http://links.mkt1150.com/ctt?kn=27&ms=MTc4NzE1MDAS1&r=NzI3MzIzMTYzNAS2&b=2&j=MjI3MjE1NjE3S0&mt=1&rt=0 \\r\\n                                                                                                                                                                                                                                                                                                                                                                                                                            \\r\\n\\r\\n'},\n",
       "  {'id': '140ef56afc51955e',\n",
       "   'threadId': '140ef56afc51955e',\n",
       "   'body': ' Having trouble viewing this email?\\r\\nClick here!\\r\\nhttp://campaign.r20.constantcontact.com/render?llr=6aiefwcab&v=001rFp1utu-80wK7vdAcZqiC9ANsNz_nd2B0eumM0ylz0_glS3BQN7eFbXo9JEw4XGlo6Gpm0HE_ose3iht4UOworc64c5UEpAep00NGAoxRdgVEfY9JYq272-309Jtd2enkVjoPXxXvKG-uxbmgxlsSHEa3L6khdj554wK1CjOcP2e_W1VqwvDf0AHh9DYyaNNQaIHLn7tlic%3D\\r\\n\\r\\n~~~~~~~~~~~~~~~~~~~~~~~~~~~~~~~~~~~~~~~~~~~~~~~~~~~~~~~~~~~~~~~~~~~~~~~~~~~~~~~~\\r\\n\\r\\nBark BustersNewsletter\\r\\nSeptember 2013\\r\\n~~~~~~~~~~~~~~~~~~~~~~~~~~~~~~~~~~~~~~~~~~~~~~~~~~~~~~~~~~~~~~~~~~~~~~~~~~~~~~~~\\r\\n\\r\\nQuick Links\\r\\n\\r\\nVisit Our Website [http://r20.rs6.net/tn.jsp?e=0019n5RTu47VzKTAg9-yI2kPV7UEXIrY_hpCTJ6OuuXBuybR13ndU9Oq2OJaJdcpHjJA-zbYuGZCnKlPTpGsZiRPIq2aiTHAGp1-ei4CrQ1958mXRXWeDs2NgX-OyjQig1G]\\r\\nSee Our Bio [http://r20.rs6.net/tn.jsp?e=0019n5RTu47VzLP1OAl3L9c637vIERdtTCaNkcLDIVLJ7fTiM0P8_oEXoVRcbpKi_nCiOv90gLXw7W212Ei87Y8fQyxbAz5Kva5NdoaCn7sKLpmgjyJOZes8K4jjMZYGwKCtGkeTy6zuGKvgg6O4nsFyafGsg1bcnw5]\\r\\nOur Services [http://r20.rs6.net/tn.jsp?e=0019n5RTu47VzLKUDCz7nzoFr5-10loYv2arfbepSHF2nDGAXmoG2UzjABKVHwqFgR6gb4aNFquOiQ6rKgcI14z3JI0fnj-YqG0pF3UFPLmV-NLl1pGCDtU8muoavFWA3VSnGslA9lUibw=]\\r\\nLifetime Support [http://r20.rs6.net/tn.jsp?e=0019n5RTu47VzLeY7k2x90_5rIDH1IfAerc1Q_Tz_qt9wiTc4Hv_wYCcbNQvjMbeTtvGBx4isyMnwJC2S9WW4d9c_9JiSqjdVSo9893YLzSMoQaq7Ez9ZVaSrAAzk-uN5FWq0s0zYSfrAISMJYX_pm8shWuAHZW4Ljy]\\r\\n~~~~~~~~~~~~~~~~~~~~~~~~~~~~~~~~~~~~~~~~~~~~~~~~~~~~~~~~~~~~~~~~~~~~~~~~~~~~~~~~\\r\\n\\r\\nGet Social\\r\\n\\r\\nLike us on Facebook [http://r20.rs6.net/tn.jsp?e=0019n5RTu47VzKusVthi7dOPxsPK_jzNtHT3KxiscDrZEGx76tVczbUVw9umWWr-rRwGZffHi1a3SNXDQ32o09lUNtKeMIKAahCCD0sbABOAaFOKhQkFFvYHIANWDl7A4L-_YMlj1EE706C_wlOBv_nO17XL2LnAnI3]\\r\\nFollow us on Twitter [http://r20.rs6.net/tn.jsp?e=0019n5RTu47VzKkNHSf_9GM-ooppag3on2-wZZ97wLgB2GUfS0VUFrBey1XF0P6P6GnGq8Bp53h2kcYE5f5711X6qKH-fWXDb5fSYwyKTBN_OyOrZKozxJkpl81z2hOrCgW]\\r\\nView our videos on YouTube [http://r20.rs6.net/tn.jsp?e=0019n5RTu47VzJ5PPJXHyVqMt9vWqnWyOXlXLhbTnnkjkrS0YZuGA9UxuvfsonnXirjA8dPgMz8AIEoq5c2nNL2ub3imZFe5WNXIwjhWsJer1Ly2YtxfDCyT_gXa5BmPFdobSlaXfh__t8=]\\r\\n~~~~~~~~~~~~~~~~~~~~~~~~~~~~~~~~~~~~~~~~~~~~~~~~~~~~~~~~~~~~~~~~~~~~~~~~~~~~~~~~\\r\\n\\r\\nJoin Our Mailing List [http://visitor.constantcontact.com/email.jsp?m=1102402691101]\\r\\n~~~~~~~~~~~~~~~~~~~~~~~~~~~~~~~~~~~~~~~~~~~~~~~~~~~~~~~~~~~~~~~~~~~~~~~~~~~~~~~~\\r\\n\\r\\nClient\\r\\nTestimonials\\r\\n\\r\\nBark Busters Charleston are A-M-A-Z-I-N-G! We contacted Bark Busters because our\\r\\n youngest pack member was showing aggressive behavior. This was something we had\\r\\n been dealing with since adopting him as a ten-month-old pup almost three years \\r\\nago. He only showed aggressive behavior towards other dogs (except his sister) and\\r\\nstrangers. This was something we thought he would grow out of, we read books on \\r\\nhow to deal with his behavior, tried training him ourselves, nothing worked. We \\r\\nwere so embarrassed whenever he growled at anyone and lunged at people and animals!\\r\\nKnowing we would never give up on our furry family members, we had to do something.\\r\\nWe researched for only the best and found Bark Busters. After the first training\\r\\n session with James, there was an immediate positive change. We were consistent \\r\\non our homework until the next training session two weeks later. After our second\\r\\nsession, we were able to have James freely in our house and yard without our youngest\\r\\npack member muzzled! We are so grateful for the knowledge, and support from Bark\\r\\n Busters, without them, we would not have the confidence or education on how to \\r\\nfix \"us\" in order to guide our pack. We highly recommend Bark Busters Charleston!\\r\\n\\r\\nLori & Peter N.  - Johns Island, SC\\r\\n\\r\\nHave had a great experience thus far having James help me train my German Shepherd\\r\\nJax. When I have had questions, he has been there to answer them during and between\\r\\nsessions. If you follow the program, your dog will respond very well to the training!\\r\\n\\r\\nRyan T. - James Island, SC\\r\\n\\r\\nWe have had our dog for about 3.5 years and have tried many different ways to train\\r\\nher and have failed every time. We couldn\\'t figure out how to properly communicate\\r\\nwith our dog and it was becoming a huge problem because she started being aggressive\\r\\nto our other dog. Michelle with Bark Busters came in and spent almost 3 hours educating\\r\\nme how to communicate with both of our dogs. We began to see results immediately.\\r\\nIt\\'s been less than a week since our first session and I have seen a dramatic change\\r\\nin our dog\\'s behavior. She is better behaved than ever and seems to be much happier.\\r\\nI can\\'t thank Bark Busters enough and will recommend them to anyone who needs help\\r\\nwith their dogs, especially since I work at a vet clinic!\\r\\n\\r\\nAmanda P. - West Ashley, SC\\r\\n\\r\\nMore Testimonials [http://r20.rs6.net/tn.jsp?e=0019n5RTu47VzIR2ai5ZyIXzXkExzdOa2A2KF7XPmYOyu10JJ3AjiEjFgSMMhkvr2_Zgi4_wEUEv0Kz1CiI3ZTqpbGuOwS5vRu3gFuL8Xdi9H9G8LVzlXwp9JnQm0Mg03w8BMlhcX1_Yoz-pvYNO5fQROC3TKoOLDIgnqVrA631L4Iea0k5fb2smQ==]\\r\\n~~~~~~~~~~~~~~~~~~~~~~~~~~~~~~~~~~~~~~~~~~~~~~~~~~~~~~~~~~~~~~~~~~~~~~~~~~~~~~~~\\r\\n\\r\\nG\\'day, Shana!\\r\\nSeptember is Baby Safety Month, and while kids and dogs often grow up to be the \\r\\nbest of friends, this iconic relationship can get off to a rocky start if dogs aren\\'t\\r\\nproperly introduced to their new pack member. See our tips below on Preparing Your\\r\\nDog for a Baby--and feel free to pass this newsletter on to anyone you know who \\r\\nis expecting! We can also give FREE group seminars on this topic; contact us for\\r\\n more details.\\r\\nAs we head into autumn, we\\'ve also included our handout on Barking: The Facts--for\\r\\ndogs that bark at everything from passersby to, well, falling leaves! Read on to\\r\\n learn what makes a good watchdog and what is just nuisance barking.\\r\\n\\r\\nWe welcome your comments and feedback on this e-newsletter and always enjoy hearing\\r\\nfrom you; please feel free to reply with any questions you may have.\\r\\n\\r\\nClick here [http://ui.constantcontact.com/sa/fwtf.jsp?m=1102402691101&a=1114799895517&ea=birdyanddoggy%40gmail.com]\\r\\nto forward this e-newsletter to a friend!\\r\\n~~~~~~~~~~~~~~~~~~~~~~~~~~~~~~~~~~~~~~~~~~~~~~~~~~~~~~~~~~~~~~~~~~~~~~~~~~~~~~~~\\r\\n\\r\\nPREPARING YOUR DOG FOR A NEW BABY\\r\\n\\r\\nIf you are expecting a baby and you have a dog, you will  want to prepare your dog\\r\\nfor the day you bring home your child. Dogs can feel shunned and become confused\\r\\n and stressed when parents suddenly shift their attention from dog to baby. A dog\\r\\ndoes not understand why a baby is automatically elevated above the dog in the pack.\\r\\nIn trying to regain his pack position, the dog will often engage in attention-seeking\\r\\nbehaviors such as:\\r\\n\\r\\n* jumping up on his owners when they are tending to the baby,\\r\\n* stealing items belonging to the baby,\\r\\n* going into the baby\\'s room,\\r\\n* barking when the baby cries,\\r\\n* becoming pushy when the mother is feeding the baby,\\r\\n* jumping on the stroller or pulling in front of it, or\\r\\n* barking at passersby or guests.The following guidelines will help reduce bad behavior\\r\\nand ease everyone\\'s stress.\\r\\nBefore The Baby Arrives\\r\\nSet new rules for the dog. Start by considering the lifestyle changes your new baby\\r\\nwill require you to make for your dog. For safety reasons, you will want to keep\\r\\n him out of your bedroom--and also out of the baby\\'s room. Set up a baby gate in\\r\\n front of the baby\\'s room and correct the dog if he enters the room when the gate\\r\\nis open. Go in and out of the room regularly to demonstrate that it is no-go zone.\\r\\nImplement these restrictions several weeks or months before the baby arrives so \\r\\nthat your dog does not associate the baby\\'s arrival with exclusion from parts of\\r\\n the home he previously enjoyed.\\r\\nPrepare your dog for changes in routine. If before the baby arrives, you make changes\\r\\nin your dog\\'s routine--such as how and when he is walked, fed or receives attention--he\\r\\nwill handle those changes better than if they happen all at once. If you are concerned\\r\\nthat some of your dog\\'s needs will not be met, consider dog walkers and day cares\\r\\nto assist you when you are very busy. (Test out those options in advance.) Try not\\r\\nto express guilt that the baby will soon take more attention; that can make the \\r\\ntransition harder for your dog.\\r\\nPrepare your dog for the sights and sounds of a baby.Many dogs bark, jump up or \\r\\neven hide when a baby cries because they are unsure whether something is wrong. \\r\\nThe easiest way to anticipate this problem is to buy a doll that giggles and cries\\r\\nlike a baby, wrap it in a baby blanket, and carry it with you throughout the house.\\r\\nIf the dog becomes upset when the doll cries, correct his behavior to show that \\r\\nyou are in control.\\r\\nTeach your dog to accept baby scents.Apply to the baby doll the same products (powder,\\r\\nshampoo and lotion) you will use on your baby. Sprinkle some baby powder on the \\r\\ncarpeting in the baby room so your dog understands the scent association. Using \\r\\nyour changing table or mat, pretend to shampoo or apply lotion to the baby doll,\\r\\n letting your dog smell what you are doing so he learns to accept that these scents\\r\\nare now part of your home. This also gives you the opportunity to correct any bad\\r\\nbehavior before your baby comes home.\\r\\nIn addition, try to bring home your newborn\\'s blanket or skullcap prior to your \\r\\nbaby\\'s arrival so your dog can become accustomed to the baby\\'s scent.\\r\\nWhen The Baby Arrives\\r\\nMake introductions on the first day the baby comes  home.Your dog will need to \"touch\\r\\nscent\" the baby to find out what it is. Stand up and securely hold your newborn \\r\\nup high, and let your dog sniff the baby\\'s bottom or feet while another adult controls\\r\\nthe dog on a loosely held leash. If the dog misbehaves or is too exuberant, correct\\r\\nhis behavior and move the dog away from the baby. Settle the dog down before you\\r\\n attempt to introduce them again.\\r\\nAllow frequent supervised visits by your dog.The more the dog and baby are together,\\r\\nthe better and less stressed your dog will be. However, be sure to never leave your\\r\\nbaby alone in the same room with your dog. Ever.\\r\\nConsider crating your indoor dogwhen you need time alone with the baby. Crating \\r\\nwill help you to manage your dog when you\\'re feeding or changing the baby.\\r\\nDispose of soiled diapers thoroughly.The scent will prove very enticing to your \\r\\ndog, so don\\'t leave dirty diapers anywhere your dog can reach them. Dogs have been\\r\\nknown to try to get to a diaper when it\\'s still on the baby--another important reason\\r\\nnot to leave a dog and a baby alone.\\r\\nKeep your dog away from your baby\\'s head.For instance, if you change your baby\\'s\\r\\n diaper on the floor on a mat or blanket, teach your dog to stay off that area and\\r\\nnot go near the baby when she\\'s on the floor. Once the diaper is changed, allow \\r\\nyour dog to sniff the baby\\'s feet--but never allow the dog to sniff the baby\\'s head\\r\\nor face or lick her fingers. If the baby moves suddenly, the dog can become frightened\\r\\nand his natural instinct will be to duck away or snap at the baby.\\r\\nTeach your dog the difference between his toys and your baby\\'s possessions.If you\\r\\ncatch your dog stealing or chewing on something belonging to your baby, interrupt\\r\\nthe behavior with a vocal correction. Then give your dog an acceptable chew toy \\r\\nand praise him lavishly when he takes the toy in his mouth.\\r\\nAlthough it is normal for a dog to be possessive about his toys, food and space,\\r\\n it is NOT acceptable for him to growl or snap at you or your child at any time.\\r\\n If this happens, the situation needs immediate attention.\\r\\nBy following these guidelines, you can make a gentle transition to having a new \\r\\nbaby in the house. Your dog will understand that he\\'s still a valuable member of\\r\\n the pack yet there is now a new member, too.\\r\\nAs long as you maintain authority over your dog, and teach your dog and your children\\r\\nthe rules of interacting safely and respectfully with each other, your family pack\\r\\nwill be peaceful, happy and safe.\\r\\n~~~~~~~~~~~~~~~~~~~~~~~~~~~~~~~~~~~~~~~~~~~~~~~~~~~~~~~~~~~~~~~~~~~~~~~~~~~~~~~~\\r\\n\\r\\nBARKING: THE FACTS\\r\\nWhile many people consider barking to be a normal\\r\\nbehavior, excessive barking is a behavioral problem and is often a sign that your\\r\\ndog is stressed.\\r\\nCLICK HERE [http://r20.rs6.net/tn.jsp?e=0019n5RTu47VzJZKOPXLJeeR_kE9EIOnZPxkm3g1Kj7SZN_hXLM3RUcHRnh4jLOEc4-ni8i5KObLBv02WZCxMHMjfSTCLdEdb_qsZwUHxy_jao5-udQ769Zn1lymG-VWIO7abkBtQ2RYo-ZZvbfL8IO2y7W2Rpje3yfrT06lkut6rZH2Ls24aL6zfKORLBzhGO5puoop8hVW_VHy1QcBpdrmA==]\\r\\nto learn about common reasons dogs bark and what separates a good watchdog from \\r\\na nuisance barker!\\r\\n~~~~~~~~~~~~~~~~~~~~~~~~~~~~~~~~~~~~~~~~~~~~~~~~~~~~~~~~~~~~~~~~~~~~~~~~~~~~~~~~\\r\\n\\r\\nCheers to you and yours! We wish you a healthy and happy month of September!\\r\\nWarm Regards,\\r\\n\\r\\nJames & Michelle Rodriguez\\r\\n\\r\\nOwners & Behavioral Therapists\\r\\n\\r\\nPhone: 843-864-1938\\r\\n\\r\\nE-Mail: charlestonsc@barkbusters.com\\r\\n\\r\\n~~~~~~~~~~~~~~~~~~~~~~~~~~~~~~~~~~~~~~~~~~~~~~~~~~~~~~~~~~~~~~~~~~~~~~~~~~~~~~~~\\r\\n\\r\\nForward email\\r\\nhttp://ui.constantcontact.com/sa/fwtf.jsp?llr=6aiefwcab&m=1102402691101&ea=birdyanddoggy@gmail.com&a=1114799895517\\r\\n\\r\\n\\r\\nThis email was sent to birdyanddoggy@gmail.com by charlestonsc@barkbusters.com.\\r\\n\\r\\nUpdate Profile/Email Address\\r\\nhttp://visitor.constantcontact.com/do?p=oo&mse=001WVdpo956d6l4k8xSMS4w2McaG0xe7SED&t=0018YUEZZyvkzRTZk4p5WJdUw%3D%3D&llr=6aiefwcab\\r\\n\\r\\n\\r\\nInstant removal with SafeUnsubscribe(TM)\\r\\nhttp://visitor.constantcontact.com/do?p=un&mse=001WVdpo956d6l4k8xSMS4w2McaG0xe7SED&t=0018YUEZZyvkzRTZk4p5WJdUw%3D%3D&llr=6aiefwcab\\r\\n\\r\\n\\r\\nPrivacy Policy:\\r\\nhttp://ui.constantcontact.com/roving/CCPrivacyPolicy.jsp\\r\\n\\r\\n\\r\\nOnline Marketing by\\r\\nhttp://img.constantcontact.com/letters/images/cc-logo-color-sm.gif\\r\\nhttp://franchise.constantcontact.com\\r\\n\\r\\n\\r\\nBark Busters Home Dog Training | 1231 Aruba Circle | Charleston | SC | 29412'},\n",
       "  {'id': '140e48eb726a96a9',\n",
       "   'threadId': '140e48eb726a96a9',\n",
       "   'body': ' \\r\\n\\r\\nFrom All Is Well, To You!\\r\\n~~~~~~~~~~~~~~~~~~~~~~~~~~~~~~~~~~~~~~~~~~~~~~~~~~~~~~~~~~~~~~~~~~~~~~~~~~~~~~~~\\r\\n\\r\\nAll Is Well Newsletter\\r\\nSeptember 2013\\r\\n~~~~~~~~~~~~~~~~~~~~~~~~~~~~~~~~~~~~~~~~~~~~~~~~~~~~~~~~~~~~~~~~~~~~~~~~~~~~~~~~\\r\\n\\r\\nIN THIS ISSUE\\r\\n\\r\\nPRODUCT OF THE MONTH\\r\\nQUOTE OF THE MONTH\\r\\nPET TRIVIA?\\r\\nPET EVENTS\\r\\n\\r\\n~~~~~~~~~~~~~~~~~~~~~~~~~~~~~~~~~~~~~~~~~~~~~~~~~~~~~~~~~~~~~~~~~~~~~~~~~~~~~~~~\\r\\n\\r\\nWe\\'re Looking for Feedback!\\r\\nIs there a food you\\'ve found at All is Well that your sensitive (or maybe just picky)\\r\\npet has thrived on? Do you swear by a particular supplement, or is there a favorite\\r\\ntoy or treat your pet has to have?\\r\\nTell us your experience with any of our products and get a 20% off coupon! Feel \\r\\nfree to include pictures if you have them: before & after photos, or just your pet\\r\\nenjoying a product.\\r\\nLimit one discount per person. Any testimonials received after September 30th will\\r\\nget a 10% discount if the product has not yet been reviewed.\\r\\nSo reply to this newsletter with your story, and we\\'ll email you a coupon. Print\\r\\n it out, bring it in, and we\\'ll give you 20% off your purchase!\\r\\n\\r\\nPlease enjoy this newsletter!\\r\\n~~~~~~~~~~~~~~~~~~~~~~~~~~~~~~~~~~~~~~~~~~~~~~~~~~~~~~~~~~~~~~~~~~~~~~~~~~~~~~~~\\r\\n\\r\\nProduct of the Month\\r\\nDream Coat\\r\\nHalo Dream Coat is\\r\\n\\r\\na full spectrum blend of cold-pressed virgin oils you add to your pet\\'s food. It\\r\\n contains the following oils: soybean, wheatgerm, safflower, sunflower, garlic and\\r\\ncod liver oil as well as anise.\\r\\n\\r\\nDream Coat has been formulated to provide all of the essential fatty acids needed\\r\\nto support a full, shiny coat, smooth skin and a healthy immune system.  These fatty\\r\\nacids are essential because our pets are not able to generate them and must get \\r\\nthem from their diet.\\r\\n\\r\\nDream Coat contains a mix of cold-pressed virgin oil, meaning that the oils still\\r\\ncontain the healing properties that can benefit our pets.  These oils provide Omega\\r\\n6 and Omega 3 fatty acids in a ratio of 8:1.  The current recommended ratio is from\\r\\n10:1 to 5:1. Dream coat also contains arachidonic acid, oil that is essential for\\r\\ncats.  Some of the benefits of using Dream Coat include:\\r\\n\\r\\nHelps to maintain bodily functions and proper weight\\r\\n\\r\\n&#x25cf; Creates healthy skin and coat\\r\\n\\r\\n&#x25cf; Supports immune system\\r\\n\\r\\n&#x25cf; Supports liver and kidney functions\\r\\n\\r\\n&#x25cf; Promotes faster wound healing and less shedding\\r\\n\\r\\n&#x25cf; Creates high tolerance to flea bites and other allergens\\r\\n\\r\\nDream Coat is a great supplement to give to pets that are experiencing excess shedding,\\r\\nhave a dull, rough coat, slow wound healing, dandruff, or need a boost to their \\r\\nimmune system.  It should be introduced into their diet slowly with a gradual build\\r\\nup to the recommended dose.\\r\\n\\r\\nClick HERE [http://r20.rs6.net/tn.jsp?e=001V0pUW9JuVBhxqoEE8WsjSr8gnMfIo7mxtbK9KLCPymQVOey9iDsNz6tUPSvx2KXRKP1jenhd18rhpQjck7CfgjISCYgLzvX4tw5K82muexlIRSsa81YYEFpSFV-oTi5B]\\r\\nto find out more!!\\r\\n\\r\\nSee coupon below for 10% off Dream Coat!\\r\\n~~~~~~~~~~~~~~~~~~~~~~~~~~~~~~~~~~~~~~~~~~~~~~~~~~~~~~~~~~~~~~~~~~~~~~~~~~~~~~~~\\r\\n\\r\\nQuote of the Month!\\r\\n\"Scratch a dog and you\\'ll find a permanent job.\"\\r\\nFranklin P. Jones\\r\\n~~~~~~~~~~~~~~~~~~~~~~~~~~~~~~~~~~~~~~~~~~~~~~~~~~~~~~~~~~~~~~~~~~~~~~~~~~~~~~~~\\r\\n\\r\\nPet Trivia?\\r\\n\\r\\nThis month\\'s trivia contest will be for a free trial size bag of Stella & Chewy\\'s\\r\\nRaw Frozen dog and cat food. All you have to do is reply to this email with the \\r\\ncorrect answer, and one winner will be selected from the correct entries!  Here \\r\\nwe go:\\r\\n\\r\\nBesides helping your pet\\'s skin and coat, what does Halo Dream Coat do?\\r\\n\\r\\nA. Creates a higher tolerance to flea bites and other allergens.\\r\\nB. Supports liver and kidney functions.\\r\\nC. Promotes faster wound healing and less shedding.\\r\\nD. All of the above.\\r\\nWhat do you think...???\\r\\n\\r\\nLast month\\'s winner was Elizabeth Franchini. Elizabeth knew Eucalyptus Oil stimulates\\r\\nthe immune system. She can pick up her prize, a free trial size bag of Stella & \\r\\nChewy\\'s Raw Frozen dog and cat food, at the All is Well location of her choosing.\\r\\nThanks for all the responses!  Keep trying, this could be your month to win!!\\r\\n~~~~~~~~~~~~~~~~~~~~~~~~~~~~~~~~~~~~~~~~~~~~~~~~~~~~~~~~~~~~~~~~~~~~~~~~~~~~~~~~\\r\\n\\r\\nON AND OFF LEASH EVENTS:\\r\\n\\r\\n*\\r\\nAnimal Communication with Barbara Rawson will be held at the West Ashley store Saturday,\\r\\nSeptember 14th from 10am-12:40pm. Please call 573-2288 to reserve your spot!\\r\\n* Whirlin Waters: Celebrate the dog days of summer with man\\'s best friend on September\\r\\n8, 2013 at Whirlin\\' Waters Adventure Waterpark. [http://goosecreek.patch.com/groups/events/p/dog-day-afternoon-at-whirlin-waters]\\r\\nLarge dogs will have a blast in the wave pool, while smaller dogs can take a dip\\r\\n in Otter Bay to cool off from the summer heat.\\r\\n* Yappy Hour will be held at the James Island County Park from 4pm-8pm Thursday,\\r\\n September 19th. Click here [http://www.ccprc.com/index.aspx?nid=1181] for more \\r\\ndetails!\\r\\n~~~~~~~~~~~~~~~~~~~~~~~~~~~~~~~~~~~~~~~~~~~~~~~~~~~~~~~~~~~~~~~~~~~~~~~~~~~~~~~~\\r\\n\\r\\nQUICK LINKS\\r\\nMore About Us [http://r20.rs6.net/tn.jsp?e=001V0pUW9JuVBhxqoEE8WsjSr8gnMfIo7mxtbK9KLCPymQVOey9iDsNz6tUPSvx2KXRKP1jenhd18rhpQjck7CfgjISCYgLzvX4tw5K82muexlIRSsa81YYEFpSFV-oTi5B]\\r\\n~~~~~~~~~~~~~~~~~~~~~~~~~~~~~~~~~~~~~~~~~~~~~~~~~~~~~~~~~~~~~~~~~~~~~~~~~~~~~~~~\\r\\n\\r\\nJoin Our Mailing List [http://visitor.r20.constantcontact.com/email.jsp?m=1102455565837]\\r\\n~~~~~~~~~~~~~~~~~~~~~~~~~~~~~~~~~~~~~~~~~~~~~~~~~~~~~~~~~~~~~~~~~~~~~~~~~~~~~~~~\\r\\n\\r\\nThank you all for your continued support of All is Well!  We strive to help educate\\r\\nall of our customers, and encourage you all to keep learning and growing.  Just \\r\\nbecause something has \\'always been done that way\\', doesn\\'t make it necessarily \\'right\\'!\\r\\n\\r\\nFrom All Is Well!\\r\\n~~~~~~~~~~~~~~~~~~~~~~~~~~~~~~~~~~~~~~~~~~~~~~~~~~~~~~~~~~~~~~~~~~~~~~~~~~~~~~~~\\r\\n\\r\\nSave 10%\\r\\n\\r\\non\\r\\n\\r\\nDream Coat\\r\\n\\r\\nat All is Well\\r\\n\\r\\nJames Island, Mt Pleasant, and West Ashley\\r\\n\\r\\nOffer Expires: September 30th, 2013\\r\\n\\r\\n~~~~~~~~~~~~~~~~~~~~~~~~~~~~~~~~~~~~~~~~~~~~~~~~~~~~~~~~~~~~~~~~~~~~~~~~~~~~~~~~\\r\\n\\r\\nForward email\\r\\nhttp://ui.constantcontact.com/sa/fwtf.jsp?llr=nq8rxxcab&m=1102455565837&ea=birdyanddoggy@gmail.com&a=1114726052236\\r\\n\\r\\n\\r\\nThis email was sent to birdyanddoggy@gmail.com by aevans@alliswellpet.com.\\r\\n\\r\\nUpdate Profile/Email Address\\r\\nhttp://visitor.constantcontact.com/do?p=oo&mse=001QCEETLfRg3YGTrFKUipkYJfpXrXN-yNV&t=001C3X1WizDHcYu7rV2ZWKz4w%3D%3D&llr=nq8rxxcab\\r\\n\\r\\n\\r\\nInstant removal with SafeUnsubscribe(TM)\\r\\nhttp://visitor.constantcontact.com/do?p=un&mse=001QCEETLfRg3YGTrFKUipkYJfpXrXN-yNV&t=001C3X1WizDHcYu7rV2ZWKz4w%3D%3D&llr=nq8rxxcab\\r\\n\\r\\n\\r\\nPrivacy Policy:\\r\\nhttp://ui.constantcontact.com/roving/CCPrivacyPolicy.jsp\\r\\n\\r\\n\\r\\nOnline Marketing by\\r\\nConstant Contact(R)\\r\\nwww.constantcontact.com\\r\\n\\r\\n\\r\\nAll Is Well: | James Island, Mt Pleasant, West Ashley | Charleston | SC | 29412'},\n",
       "  {'id': '13fe90b6958edefa',\n",
       "   'threadId': '13fe7eb2815ef5f5',\n",
       "   'body': ' haha we have no food so cant help you there :( though I got a thing for free fries at McDonald&#39;s'},\n",
       "  {'id': '13eb59ed8d7e0569',\n",
       "   'threadId': '13eb46dd81146839',\n",
       "   'body': ' sender {\\n  id {\\n    unique_id: \"105181446190475526060\"\\n    obfuscated_gaia_id: \"105181446190475526060\"\\n  }\\n  full_name: \"Lauren Kohnle\"\\n}\\nconversation_id: \"UgzVX-E4L_R-XDbzD6N4AaABAQ\"\\ntimestamp: 1368846686647632\\nevent_id: \"7-H0Z7-RTNN7-qOTYSXj6o\"\\nchat_message {\\n  segment {\\n    text: \"set rats free in the building, if it\\\\\\'s a food related job\"\\n  }\\n}\\n'},\n",
       "  {'id': '13e873fd12d4d0d8',\n",
       "   'threadId': '13e873fd12d4d0d8',\n",
       "   'body': \" I am sorry, but I keep messing up on the application! I did not realize\\r\\nthere was a 3rd page on the questionnaire. I'm sorry for bothering you!\\r\\nBut, once again here is my application.\\r\\n\\r\\nSincerely,\\r\\n\\r\\nShana Slavin\\r\\n\"},\n",
       "  {'id': '13e873730d88227a',\n",
       "   'threadId': '13e873730d88227a',\n",
       "   'body': ' I believe I sent you an email before but forgot to add the questionnaire.\\r\\n\\r\\nSincerely,\\r\\nShana Slavin\\r\\n'}],\n",
       " 'resultSizeEstimate': 13}"
      ]
     },
     "execution_count": 129,
     "metadata": {},
     "output_type": "execute_result"
    }
   ],
   "source": [
    "response"
   ]
  },
  {
   "cell_type": "code",
   "execution_count": 96,
   "metadata": {},
   "outputs": [
    {
     "data": {
      "text/plain": [
       "{'id': '16c8bfc725935780',\n",
       " 'threadId': '16c8bfc725935780',\n",
       " 'labelIds': ['IMPORTANT', 'CATEGORY_PERSONAL', 'INBOX'],\n",
       " 'snippet': 'We&#39;d like to invite you to an event on Saturday, August 17th 2019 at 6pm. There will be free food.',\n",
       " 'historyId': '3579559',\n",
       " 'internalDate': '1565716661000',\n",
       " 'sizeEstimate': 4948,\n",
       " 'raw': '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-DQpEYXRlOiBUdWUsIDEzIEF1ZyAyMDE5IDEzOjE3OjQxIC0wNDAwDQpNZXNzYWdlLUlEOiA8Q0FNbzNHRXMrdHpPUU5RTTR5czBfYXdVUS13NW1Vd1ZzVTBkLXppcVh1NmFwOUI9T2JRQG1haWwuZ21haWwuY29tPg0KU3ViamVjdDogRnVuIEV2ZW50IQ0KVG86IFNoYW5hIFNsYXZpbiA8YmlyZHlhbmRkb2dneUBnbWFpbC5jb20-DQpDb250ZW50LVR5cGU6IG11bHRpcGFydC9hbHRlcm5hdGl2ZTsgYm91bmRhcnk9IjAwMDAwMDAwMDAwMDExOWU0MTA1OTAwMmQyM2YiDQoNCi0tMDAwMDAwMDAwMDAwMTE5ZTQxMDU5MDAyZDIzZg0KQ29udGVudC1UeXBlOiB0ZXh0L3BsYWluOyBjaGFyc2V0PSJVVEYtOCINCg0KV2UnZCBsaWtlIHRvIGludml0ZSB5b3UgdG8gYW4gZXZlbnQgb24gU2F0dXJkYXksIEF1Z3VzdCAxN3RoIDIwMTkgYXQgNnBtLg0KVGhlcmUgd2lsbCBiZSBmcmVlIGZvb2QuDQoNCi0tMDAwMDAwMDAwMDAwMTE5ZTQxMDU5MDAyZDIzZg0KQ29udGVudC1UeXBlOiB0ZXh0L2h0bWw7IGNoYXJzZXQ9IlVURi04Ig0KDQo8ZGl2IGRpcj0ibHRyIj5XZSYjMzk7ZCBsaWtlIHRvIGludml0ZSB5b3UgdG8gYW4gZXZlbnQgb24gU2F0dXJkYXksIEF1Z3VzdCAxN3RoIDIwMTkgYXQgNnBtLiBUaGVyZSB3aWxsIGJlIGZyZWUgZm9vZC48ZGl2Pjxicj48L2Rpdj48ZGl2Pjxicj48L2Rpdj48L2Rpdj4NCg0KLS0wMDAwMDAwMDAwMDAxMTllNDEwNTkwMDJkMjNmLS0NCg=='}"
      ]
     },
     "execution_count": 96,
     "metadata": {},
     "output_type": "execute_result"
    }
   ],
   "source": [
    "get_email(\"16c8bfc725935780\")"
   ]
  },
  {
   "cell_type": "code",
   "execution_count": 90,
   "metadata": {},
   "outputs": [
    {
     "data": {
      "text/plain": [
       "<google.oauth2.credentials.Credentials at 0x11330fb50>"
      ]
     },
     "execution_count": 90,
     "metadata": {},
     "output_type": "execute_result"
    }
   ],
   "source": [
    "main()\n",
    "with open('token.pickle', 'rb') as token:\n",
    "            creds = pickle.load(token)\n",
    "creds"
   ]
  },
  {
   "cell_type": "code",
   "execution_count": 64,
   "metadata": {
    "scrolled": false
   },
   "outputs": [
    {
     "name": "stdout",
     "output_type": "stream",
     "text": [
      "We'd like to invite you to an event on Saturday, August 17th 2019 at 6pm.\r\n",
      "There will be free food.\r\n",
      "\n"
     ]
    }
   ],
   "source": [
    "# query_results = main()\n",
    "# print(query_results)\n",
    "# print(\"message snip \", main())\n",
    "# matches = datefinder.find_dates(main())\n",
    "\n",
    "# for match in matches:\n",
    "#     print(\"Hello Worlds\")\n",
    "#     start = match\n",
    "#     print(match)\n",
    "\n",
    "for part in main().walk():\n",
    "    # each part is a either non-multipart, or another multipart message\n",
    "    # that contains further parts... Message is organized like a tree\n",
    "    if part.get_content_type() == 'text/plain':\n",
    "        print(part.get_payload()) # prints the raw text\n",
    "\n"
   ]
  },
  {
   "cell_type": "code",
   "execution_count": 124,
   "metadata": {},
   "outputs": [],
   "source": [
    "import datetime\n",
    "user_id = \"birdyanddoggy@gmail.com\"\n",
    "query = \"free food\"\n",
    "\n",
    "\n",
    "def get_emails(email):\n",
    "    week_ago = datetime.date.today() - datetime.timedelta(days=7)\n",
    "    service = build('gmail', 'v1', credentials = self.creds)\n",
    "    user_id = email\n",
    "    query = f'free food, after:{week_ago}'\n",
    "    query_results = service.users().messages().list(userId = user_id, q = query).execute()\n",
    "    print(query_results)\n",
    "    return query_results"
   ]
  },
  {
   "cell_type": "code",
   "execution_count": 92,
   "metadata": {},
   "outputs": [
    {
     "ename": "NameError",
     "evalue": "name 'self' is not defined",
     "output_type": "error",
     "traceback": [
      "\u001b[0;31m---------------------------------------------------------------------------\u001b[0m",
      "\u001b[0;31mNameError\u001b[0m                                 Traceback (most recent call last)",
      "\u001b[0;32m<ipython-input-92-3a1055a7d9ed>\u001b[0m in \u001b[0;36m<module>\u001b[0;34m\u001b[0m\n\u001b[0;32m----> 1\u001b[0;31m \u001b[0mget_emails\u001b[0m\u001b[0;34m(\u001b[0m\u001b[0;34m\"birdyanddoggy@gmail.com\"\u001b[0m\u001b[0;34m)\u001b[0m\u001b[0;34m\u001b[0m\u001b[0;34m\u001b[0m\u001b[0m\n\u001b[0m",
      "\u001b[0;32m<ipython-input-91-975363cacead>\u001b[0m in \u001b[0;36mget_emails\u001b[0;34m(email)\u001b[0m\n\u001b[1;32m     14\u001b[0m \u001b[0;32mdef\u001b[0m \u001b[0mget_emails\u001b[0m\u001b[0;34m(\u001b[0m\u001b[0memail\u001b[0m\u001b[0;34m)\u001b[0m\u001b[0;34m:\u001b[0m\u001b[0;34m\u001b[0m\u001b[0;34m\u001b[0m\u001b[0m\n\u001b[1;32m     15\u001b[0m     \u001b[0mweek_ago\u001b[0m \u001b[0;34m=\u001b[0m \u001b[0mdatetime\u001b[0m\u001b[0;34m.\u001b[0m\u001b[0mdate\u001b[0m\u001b[0;34m.\u001b[0m\u001b[0mtoday\u001b[0m\u001b[0;34m(\u001b[0m\u001b[0;34m)\u001b[0m \u001b[0;34m-\u001b[0m \u001b[0mdatetime\u001b[0m\u001b[0;34m.\u001b[0m\u001b[0mtimedelta\u001b[0m\u001b[0;34m(\u001b[0m\u001b[0mdays\u001b[0m\u001b[0;34m=\u001b[0m\u001b[0;36m7\u001b[0m\u001b[0;34m)\u001b[0m\u001b[0;34m\u001b[0m\u001b[0;34m\u001b[0m\u001b[0m\n\u001b[0;32m---> 16\u001b[0;31m     \u001b[0mservice\u001b[0m \u001b[0;34m=\u001b[0m \u001b[0mbuild\u001b[0m\u001b[0;34m(\u001b[0m\u001b[0;34m'gmail'\u001b[0m\u001b[0;34m,\u001b[0m \u001b[0;34m'v1'\u001b[0m\u001b[0;34m,\u001b[0m \u001b[0mcredentials\u001b[0m \u001b[0;34m=\u001b[0m \u001b[0mself\u001b[0m\u001b[0;34m.\u001b[0m\u001b[0mcreds\u001b[0m\u001b[0;34m)\u001b[0m\u001b[0;34m\u001b[0m\u001b[0;34m\u001b[0m\u001b[0m\n\u001b[0m\u001b[1;32m     17\u001b[0m     \u001b[0muser_id\u001b[0m \u001b[0;34m=\u001b[0m \u001b[0memail\u001b[0m\u001b[0;34m\u001b[0m\u001b[0;34m\u001b[0m\u001b[0m\n\u001b[1;32m     18\u001b[0m     \u001b[0mquery\u001b[0m \u001b[0;34m=\u001b[0m \u001b[0;34mf'free food, after:{week_ago}'\u001b[0m\u001b[0;34m\u001b[0m\u001b[0;34m\u001b[0m\u001b[0m\n",
      "\u001b[0;31mNameError\u001b[0m: name 'self' is not defined"
     ]
    }
   ],
   "source": [
    "get_emails(\"birdyanddoggy@gmail.com\")"
   ]
  },
  {
   "cell_type": "code",
   "execution_count": 31,
   "metadata": {},
   "outputs": [],
   "source": [
    "# query_results[\"messages\"][0]\n",
    "# msg = query_results[\"messages\"][0]\n",
    "# msg_id = msg[\"id\"]\n",
    "# msg_id\n",
    "# print(\"message snippet \", query_results[\"snippet\"])"
   ]
  },
  {
   "cell_type": "code",
   "execution_count": null,
   "metadata": {},
   "outputs": [],
   "source": [
    "# def create_calendar():\n",
    "#     \"\"\"Shows basic usage of the Gmail API.\n",
    "#     Lists the user's Gmail labels.\n",
    "#     \"\"\"\n",
    "#     creds = None\n",
    "#     # The file token.pickle stores the user's access and refresh tokens, and is\n",
    "#     # created automatically when the authorization flow completes for the first\n",
    "#     # time.\n",
    "#     if os.path.exists('cal_token.pickle'):\n",
    "#         with open('cal_token.pickle', 'rb') as token:\n",
    "#             creds = pickle.load(token)\n",
    "#     # If there are no (valid) credentials available, let the user log in.\n",
    "#     if not creds or not creds.valid:\n",
    "#         if creds and creds.expired and creds.refresh_token:\n",
    "#             creds.refresh(Request())\n",
    "#         else:\n",
    "#             flow = InstalledAppFlow.from_client_secrets_file(\n",
    "#                 'calendar_credentials.json', 'https://www.googleapis.com/auth/calendar')\n",
    "#             creds = flow.run_local_server(port=0)\n",
    "#         # Save the credentials for the next run\n",
    "#         with open('cal_token.pickle', 'wb') as token:\n",
    "#             pickle.dump(creds, token)\n",
    "\n",
    "#     service = build('calendar', 'v3', credentials=creds)\n",
    "    \n",
    "#     # calendar api call\n",
    "#     event = {\n",
    "#         'start': {\n",
    "#             'dateTime': '2019-08-17T08:00:00-07:00',\n",
    "#             'timeZone': 'America/Los_Angeles'\n",
    "#         },\n",
    "#         'end': {\n",
    "#             'dateTime':'2019-08-17T23:00:00-07:00',\n",
    "#             'timeZone': 'America/Los_Angeles'\n",
    "#         }\n",
    "#     }\n",
    "#     calendar = \"birdyanddoggy@gmail.com\"\n",
    "#     return service.events().insert(calendarId=calendar, body=event).execute()\n",
    "    "
   ]
  },
  {
   "cell_type": "code",
   "execution_count": null,
   "metadata": {
    "scrolled": false
   },
   "outputs": [],
   "source": [
    "event = create_calendar()\n",
    "print ('Event created: ', (event.get('htmlLink')))"
   ]
  },
  {
   "cell_type": "code",
   "execution_count": 11,
   "metadata": {},
   "outputs": [],
   "source": [
    "def quick_add():\n",
    "    \"\"\"Shows basic usage of the Gmail API.\n",
    "    Lists the user's Gmail labels.\n",
    "    \"\"\"\n",
    "    service = build('calendar', 'v3', credentials=creds)\n",
    "    \n",
    "    created_event = service.events().quickAdd(\n",
    "        calendarId='bekkblando@gmail.com',\n",
    "        text='like to invite you to an event on Saturday, August 17th 2019 at 6pm. There will be free food.').execute()\n",
    "    return created_event"
   ]
  },
  {
   "cell_type": "code",
   "execution_count": 12,
   "metadata": {},
   "outputs": [
    {
     "name": "stdout",
     "output_type": "stream",
     "text": [
      "{'kind': 'calendar#event', 'etag': '\"3131592814334000\"', 'id': 'ffr6j3027mmb7nr0cm5g9maip8', 'status': 'confirmed', 'htmlLink': 'https://www.google.com/calendar/event?eid=ZmZyNmozMDI3bW1iN25yMGNtNWc5bWFpcDggYmVra2JsYW5kb0Bt', 'created': '2019-08-14T15:26:47.000Z', 'updated': '2019-08-14T15:26:47.167Z', 'summary': 'like to invite you to an event There will be free food.', 'creator': {'email': 'bekkblando@gmail.com', 'self': True}, 'organizer': {'email': 'bekkblando@gmail.com', 'self': True}, 'start': {'dateTime': '2019-08-17T18:00:00-04:00'}, 'end': {'dateTime': '2019-08-17T19:00:00-04:00'}, 'iCalUID': 'ffr6j3027mmb7nr0cm5g9maip8@google.com', 'sequence': 0, 'reminders': {'useDefault': True}}\n"
     ]
    }
   ],
   "source": [
    "event = quick_add()\n",
    "print(event)"
   ]
  },
  {
   "cell_type": "code",
   "execution_count": 35,
   "metadata": {},
   "outputs": [],
   "source": [
    "class GoogleAPI:\n",
    "\n",
    "    def __init__(self):\n",
    "        self.creds = self.auth()\n",
    "        self.calendar = build('calendar', 'v3', credentials = self.creds)\n",
    "        self.gmail = build('gmail', 'v1', credentials = self.creds)\n",
    "\n",
    "    def auth(self):\n",
    "        creds = None\n",
    "        # The file token.pickle stores the user's access and refresh tokens, and is\n",
    "        # created automatically when the authorization flow completes for the first\n",
    "        # time.\n",
    "        if os.path.exists('token.pickle'):\n",
    "            with open('token.pickle', 'rb') as token:\n",
    "                creds = pickle.load(token)\n",
    "        # If there are no (valid) credentials available, let the user log in.\n",
    "        if not creds or not creds.valid:\n",
    "            if creds and creds.expired and creds.refresh_token:\n",
    "                creds.refresh(Request())\n",
    "            else:\n",
    "                flow = InstalledAppFlow.from_client_secrets_file(\n",
    "                    'gmail_credentials.json', \n",
    "                    ['https://www.googleapis.com/auth/calendar', 'https://www.googleapis.com/auth/gmail.readonly'],\n",
    "                    redirect_uri='urn:ietf:wg:oauth:2.0:oob')\n",
    "                auth_url = flow.authorization_url(prompt='consent')\n",
    "                print(auth_url)\n",
    "            # Save the credentials for the next run\n",
    "            with open('token.pickle', 'wb') as token:\n",
    "                print(\"This is the credential \", creds)\n",
    "                pickle.dump(creds, token)\n",
    "        return creds\n",
    "\n",
    "        "
   ]
  },
  {
   "cell_type": "code",
   "execution_count": 36,
   "metadata": {},
   "outputs": [
    {
     "name": "stdout",
     "output_type": "stream",
     "text": [
      "('https://accounts.google.com/o/oauth2/auth?response_type=code&client_id=27773405362-pv1pp193r9o5oqj1trnis58calo7s048.apps.googleusercontent.com&redirect_uri=urn%3Aietf%3Awg%3Aoauth%3A2.0%3Aoob&scope=https%3A%2F%2Fwww.googleapis.com%2Fauth%2Fcalendar+https%3A%2F%2Fwww.googleapis.com%2Fauth%2Fgmail.readonly&state=JapCavwzIDfrVngO93aNKuU0FbxJhi&prompt=consent&access_type=offline&code_challenge=D96V_lk-LuxWf9AeQ0iao2KOuwkULQmuEFEBsWSzQCg&code_challenge_method=S256', 'JapCavwzIDfrVngO93aNKuU0FbxJhi')\n",
      "This is the credential  None\n"
     ]
    },
    {
     "ename": "DefaultCredentialsError",
     "evalue": "Could not automatically determine credentials. Please set GOOGLE_APPLICATION_CREDENTIALS or explicitly create credentials and re-run the application. For more information, please see https://cloud.google.com/docs/authentication/getting-started",
     "output_type": "error",
     "traceback": [
      "\u001b[0;31m---------------------------------------------------------------------------\u001b[0m",
      "\u001b[0;31mDefaultCredentialsError\u001b[0m                   Traceback (most recent call last)",
      "\u001b[0;32m<ipython-input-36-ca92f68ea7a3>\u001b[0m in \u001b[0;36m<module>\u001b[0;34m\u001b[0m\n\u001b[0;32m----> 1\u001b[0;31m \u001b[0mgoogle_api\u001b[0m \u001b[0;34m=\u001b[0m \u001b[0mGoogleAPI\u001b[0m\u001b[0;34m(\u001b[0m\u001b[0;34m)\u001b[0m\u001b[0;34m\u001b[0m\u001b[0;34m\u001b[0m\u001b[0m\n\u001b[0m",
      "\u001b[0;32m<ipython-input-35-0d6a102179fa>\u001b[0m in \u001b[0;36m__init__\u001b[0;34m(self)\u001b[0m\n\u001b[1;32m      3\u001b[0m     \u001b[0;32mdef\u001b[0m \u001b[0m__init__\u001b[0m\u001b[0;34m(\u001b[0m\u001b[0mself\u001b[0m\u001b[0;34m)\u001b[0m\u001b[0;34m:\u001b[0m\u001b[0;34m\u001b[0m\u001b[0;34m\u001b[0m\u001b[0m\n\u001b[1;32m      4\u001b[0m         \u001b[0mself\u001b[0m\u001b[0;34m.\u001b[0m\u001b[0mcreds\u001b[0m \u001b[0;34m=\u001b[0m \u001b[0mself\u001b[0m\u001b[0;34m.\u001b[0m\u001b[0mauth\u001b[0m\u001b[0;34m(\u001b[0m\u001b[0;34m)\u001b[0m\u001b[0;34m\u001b[0m\u001b[0;34m\u001b[0m\u001b[0m\n\u001b[0;32m----> 5\u001b[0;31m         \u001b[0mself\u001b[0m\u001b[0;34m.\u001b[0m\u001b[0mcalendar\u001b[0m \u001b[0;34m=\u001b[0m \u001b[0mbuild\u001b[0m\u001b[0;34m(\u001b[0m\u001b[0;34m'calendar'\u001b[0m\u001b[0;34m,\u001b[0m \u001b[0;34m'v3'\u001b[0m\u001b[0;34m,\u001b[0m \u001b[0mcredentials\u001b[0m \u001b[0;34m=\u001b[0m \u001b[0mself\u001b[0m\u001b[0;34m.\u001b[0m\u001b[0mcreds\u001b[0m\u001b[0;34m)\u001b[0m\u001b[0;34m\u001b[0m\u001b[0;34m\u001b[0m\u001b[0m\n\u001b[0m\u001b[1;32m      6\u001b[0m         \u001b[0mself\u001b[0m\u001b[0;34m.\u001b[0m\u001b[0mgmail\u001b[0m \u001b[0;34m=\u001b[0m \u001b[0mbuild\u001b[0m\u001b[0;34m(\u001b[0m\u001b[0;34m'gmail'\u001b[0m\u001b[0;34m,\u001b[0m \u001b[0;34m'v1'\u001b[0m\u001b[0;34m,\u001b[0m \u001b[0mcredentials\u001b[0m \u001b[0;34m=\u001b[0m \u001b[0mself\u001b[0m\u001b[0;34m.\u001b[0m\u001b[0mcreds\u001b[0m\u001b[0;34m)\u001b[0m\u001b[0;34m\u001b[0m\u001b[0;34m\u001b[0m\u001b[0m\n\u001b[1;32m      7\u001b[0m \u001b[0;34m\u001b[0m\u001b[0m\n",
      "\u001b[0;32m~/Documents/github/gmail_api/.direnv/python-3.7.3/lib/python3.7/site-packages/googleapiclient/_helpers.py\u001b[0m in \u001b[0;36mpositional_wrapper\u001b[0;34m(*args, **kwargs)\u001b[0m\n\u001b[1;32m    128\u001b[0m                 \u001b[0;32melif\u001b[0m \u001b[0mpositional_parameters_enforcement\u001b[0m \u001b[0;34m==\u001b[0m \u001b[0mPOSITIONAL_WARNING\u001b[0m\u001b[0;34m:\u001b[0m\u001b[0;34m\u001b[0m\u001b[0;34m\u001b[0m\u001b[0m\n\u001b[1;32m    129\u001b[0m                     \u001b[0mlogger\u001b[0m\u001b[0;34m.\u001b[0m\u001b[0mwarning\u001b[0m\u001b[0;34m(\u001b[0m\u001b[0mmessage\u001b[0m\u001b[0;34m)\u001b[0m\u001b[0;34m\u001b[0m\u001b[0;34m\u001b[0m\u001b[0m\n\u001b[0;32m--> 130\u001b[0;31m             \u001b[0;32mreturn\u001b[0m \u001b[0mwrapped\u001b[0m\u001b[0;34m(\u001b[0m\u001b[0;34m*\u001b[0m\u001b[0margs\u001b[0m\u001b[0;34m,\u001b[0m \u001b[0;34m**\u001b[0m\u001b[0mkwargs\u001b[0m\u001b[0;34m)\u001b[0m\u001b[0;34m\u001b[0m\u001b[0;34m\u001b[0m\u001b[0m\n\u001b[0m\u001b[1;32m    131\u001b[0m         \u001b[0;32mreturn\u001b[0m \u001b[0mpositional_wrapper\u001b[0m\u001b[0;34m\u001b[0m\u001b[0;34m\u001b[0m\u001b[0m\n\u001b[1;32m    132\u001b[0m \u001b[0;34m\u001b[0m\u001b[0m\n",
      "\u001b[0;32m~/Documents/github/gmail_api/.direnv/python-3.7.3/lib/python3.7/site-packages/googleapiclient/discovery.py\u001b[0m in \u001b[0;36mbuild\u001b[0;34m(serviceName, version, http, discoveryServiceUrl, developerKey, model, requestBuilder, credentials, cache_discovery, cache)\u001b[0m\n\u001b[1;32m    224\u001b[0m       return build_from_document(content, base=discovery_url, http=http,\n\u001b[1;32m    225\u001b[0m           \u001b[0mdeveloperKey\u001b[0m\u001b[0;34m=\u001b[0m\u001b[0mdeveloperKey\u001b[0m\u001b[0;34m,\u001b[0m \u001b[0mmodel\u001b[0m\u001b[0;34m=\u001b[0m\u001b[0mmodel\u001b[0m\u001b[0;34m,\u001b[0m \u001b[0mrequestBuilder\u001b[0m\u001b[0;34m=\u001b[0m\u001b[0mrequestBuilder\u001b[0m\u001b[0;34m,\u001b[0m\u001b[0;34m\u001b[0m\u001b[0;34m\u001b[0m\u001b[0m\n\u001b[0;32m--> 226\u001b[0;31m           credentials=credentials)\n\u001b[0m\u001b[1;32m    227\u001b[0m     \u001b[0;32mexcept\u001b[0m \u001b[0mHttpError\u001b[0m \u001b[0;32mas\u001b[0m \u001b[0me\u001b[0m\u001b[0;34m:\u001b[0m\u001b[0;34m\u001b[0m\u001b[0;34m\u001b[0m\u001b[0m\n\u001b[1;32m    228\u001b[0m       \u001b[0;32mif\u001b[0m \u001b[0me\u001b[0m\u001b[0;34m.\u001b[0m\u001b[0mresp\u001b[0m\u001b[0;34m.\u001b[0m\u001b[0mstatus\u001b[0m \u001b[0;34m==\u001b[0m \u001b[0mhttp_client\u001b[0m\u001b[0;34m.\u001b[0m\u001b[0mNOT_FOUND\u001b[0m\u001b[0;34m:\u001b[0m\u001b[0;34m\u001b[0m\u001b[0;34m\u001b[0m\u001b[0m\n",
      "\u001b[0;32m~/Documents/github/gmail_api/.direnv/python-3.7.3/lib/python3.7/site-packages/googleapiclient/_helpers.py\u001b[0m in \u001b[0;36mpositional_wrapper\u001b[0;34m(*args, **kwargs)\u001b[0m\n\u001b[1;32m    128\u001b[0m                 \u001b[0;32melif\u001b[0m \u001b[0mpositional_parameters_enforcement\u001b[0m \u001b[0;34m==\u001b[0m \u001b[0mPOSITIONAL_WARNING\u001b[0m\u001b[0;34m:\u001b[0m\u001b[0;34m\u001b[0m\u001b[0;34m\u001b[0m\u001b[0m\n\u001b[1;32m    129\u001b[0m                     \u001b[0mlogger\u001b[0m\u001b[0;34m.\u001b[0m\u001b[0mwarning\u001b[0m\u001b[0;34m(\u001b[0m\u001b[0mmessage\u001b[0m\u001b[0;34m)\u001b[0m\u001b[0;34m\u001b[0m\u001b[0;34m\u001b[0m\u001b[0m\n\u001b[0;32m--> 130\u001b[0;31m             \u001b[0;32mreturn\u001b[0m \u001b[0mwrapped\u001b[0m\u001b[0;34m(\u001b[0m\u001b[0;34m*\u001b[0m\u001b[0margs\u001b[0m\u001b[0;34m,\u001b[0m \u001b[0;34m**\u001b[0m\u001b[0mkwargs\u001b[0m\u001b[0;34m)\u001b[0m\u001b[0;34m\u001b[0m\u001b[0;34m\u001b[0m\u001b[0m\n\u001b[0m\u001b[1;32m    131\u001b[0m         \u001b[0;32mreturn\u001b[0m \u001b[0mpositional_wrapper\u001b[0m\u001b[0;34m\u001b[0m\u001b[0;34m\u001b[0m\u001b[0m\n\u001b[1;32m    132\u001b[0m \u001b[0;34m\u001b[0m\u001b[0m\n",
      "\u001b[0;32m~/Documents/github/gmail_api/.direnv/python-3.7.3/lib/python3.7/site-packages/googleapiclient/discovery.py\u001b[0m in \u001b[0;36mbuild_from_document\u001b[0;34m(service, base, future, http, developerKey, model, requestBuilder, credentials)\u001b[0m\n\u001b[1;32m    360\u001b[0m       \u001b[0;31m# default credentials.\u001b[0m\u001b[0;34m\u001b[0m\u001b[0;34m\u001b[0m\u001b[0;34m\u001b[0m\u001b[0m\n\u001b[1;32m    361\u001b[0m       \u001b[0;32mif\u001b[0m \u001b[0mcredentials\u001b[0m \u001b[0;32mis\u001b[0m \u001b[0;32mNone\u001b[0m\u001b[0;34m:\u001b[0m\u001b[0;34m\u001b[0m\u001b[0;34m\u001b[0m\u001b[0m\n\u001b[0;32m--> 362\u001b[0;31m         \u001b[0mcredentials\u001b[0m \u001b[0;34m=\u001b[0m \u001b[0m_auth\u001b[0m\u001b[0;34m.\u001b[0m\u001b[0mdefault_credentials\u001b[0m\u001b[0;34m(\u001b[0m\u001b[0;34m)\u001b[0m\u001b[0;34m\u001b[0m\u001b[0;34m\u001b[0m\u001b[0m\n\u001b[0m\u001b[1;32m    363\u001b[0m \u001b[0;34m\u001b[0m\u001b[0m\n\u001b[1;32m    364\u001b[0m       \u001b[0;31m# The credentials need to be scoped.\u001b[0m\u001b[0;34m\u001b[0m\u001b[0;34m\u001b[0m\u001b[0;34m\u001b[0m\u001b[0m\n",
      "\u001b[0;32m~/Documents/github/gmail_api/.direnv/python-3.7.3/lib/python3.7/site-packages/googleapiclient/_auth.py\u001b[0m in \u001b[0;36mdefault_credentials\u001b[0;34m()\u001b[0m\n\u001b[1;32m     40\u001b[0m     \u001b[0;34m\"\"\"Returns Application Default Credentials.\"\"\"\u001b[0m\u001b[0;34m\u001b[0m\u001b[0;34m\u001b[0m\u001b[0m\n\u001b[1;32m     41\u001b[0m     \u001b[0;32mif\u001b[0m \u001b[0mHAS_GOOGLE_AUTH\u001b[0m\u001b[0;34m:\u001b[0m\u001b[0;34m\u001b[0m\u001b[0;34m\u001b[0m\u001b[0m\n\u001b[0;32m---> 42\u001b[0;31m         \u001b[0mcredentials\u001b[0m\u001b[0;34m,\u001b[0m \u001b[0m_\u001b[0m \u001b[0;34m=\u001b[0m \u001b[0mgoogle\u001b[0m\u001b[0;34m.\u001b[0m\u001b[0mauth\u001b[0m\u001b[0;34m.\u001b[0m\u001b[0mdefault\u001b[0m\u001b[0;34m(\u001b[0m\u001b[0;34m)\u001b[0m\u001b[0;34m\u001b[0m\u001b[0;34m\u001b[0m\u001b[0m\n\u001b[0m\u001b[1;32m     43\u001b[0m         \u001b[0;32mreturn\u001b[0m \u001b[0mcredentials\u001b[0m\u001b[0;34m\u001b[0m\u001b[0;34m\u001b[0m\u001b[0m\n\u001b[1;32m     44\u001b[0m     \u001b[0;32melif\u001b[0m \u001b[0mHAS_OAUTH2CLIENT\u001b[0m\u001b[0;34m:\u001b[0m\u001b[0;34m\u001b[0m\u001b[0;34m\u001b[0m\u001b[0m\n",
      "\u001b[0;32m~/Documents/github/gmail_api/.direnv/python-3.7.3/lib/python3.7/site-packages/google/auth/_default.py\u001b[0m in \u001b[0;36mdefault\u001b[0;34m(scopes, request)\u001b[0m\n\u001b[1;32m    315\u001b[0m             \u001b[0;32mreturn\u001b[0m \u001b[0mcredentials\u001b[0m\u001b[0;34m,\u001b[0m \u001b[0meffective_project_id\u001b[0m\u001b[0;34m\u001b[0m\u001b[0;34m\u001b[0m\u001b[0m\n\u001b[1;32m    316\u001b[0m \u001b[0;34m\u001b[0m\u001b[0m\n\u001b[0;32m--> 317\u001b[0;31m     \u001b[0;32mraise\u001b[0m \u001b[0mexceptions\u001b[0m\u001b[0;34m.\u001b[0m\u001b[0mDefaultCredentialsError\u001b[0m\u001b[0;34m(\u001b[0m\u001b[0m_HELP_MESSAGE\u001b[0m\u001b[0;34m)\u001b[0m\u001b[0;34m\u001b[0m\u001b[0;34m\u001b[0m\u001b[0m\n\u001b[0m",
      "\u001b[0;31mDefaultCredentialsError\u001b[0m: Could not automatically determine credentials. Please set GOOGLE_APPLICATION_CREDENTIALS or explicitly create credentials and re-run the application. For more information, please see https://cloud.google.com/docs/authentication/getting-started"
     ]
    }
   ],
   "source": [
    "google_api = GoogleAPI()"
   ]
  },
  {
   "cell_type": "code",
   "execution_count": 24,
   "metadata": {},
   "outputs": [
    {
     "data": {
      "text/plain": [
       "<googleapiclient.discovery.Resource at 0x1118d8a20>"
      ]
     },
     "execution_count": 24,
     "metadata": {},
     "output_type": "execute_result"
    }
   ],
   "source": [
    "google_api.calendar.events()"
   ]
  },
  {
   "cell_type": "code",
   "execution_count": null,
   "metadata": {},
   "outputs": [],
   "source": []
  }
 ],
 "metadata": {
  "kernelspec": {
   "display_name": "Python 3",
   "language": "python",
   "name": "python3"
  },
  "language_info": {
   "codemirror_mode": {
    "name": "ipython",
    "version": 3
   },
   "file_extension": ".py",
   "mimetype": "text/x-python",
   "name": "python",
   "nbconvert_exporter": "python",
   "pygments_lexer": "ipython3",
   "version": "3.7.4"
  }
 },
 "nbformat": 4,
 "nbformat_minor": 2
}
