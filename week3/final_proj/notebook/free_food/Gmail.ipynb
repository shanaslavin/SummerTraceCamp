{
 "cells": [
  {
   "cell_type": "code",
   "execution_count": 5,
   "metadata": {},
   "outputs": [],
   "source": [
    "from __future__ import print_function\n",
    "import pickle\n",
    "import os.path\n",
    "from googleapiclient.discovery import build\n",
    "from google_auth_oauthlib.flow import InstalledAppFlow\n",
    "from google.auth.transport.requests import Request\n",
    "import datefinder\n",
    "\n",
    "# If modifying these scopes, delete the file token.pickle.\n",
    "SCOPES = ['https://www.googleapis.com/auth/gmail.readonly']\n",
    "\n",
    "def main():\n",
    "    \"\"\"Shows basic usage of the Gmail API.\n",
    "    Lists the user's Gmail labels.\n",
    "    \"\"\"\n",
    "    creds = None\n",
    "    # The file token.pickle stores the user's access and refresh tokens, and is\n",
    "    # created automatically when the authorization flow completes for the first\n",
    "    # time.\n",
    "    if os.path.exists('token.pickle'):\n",
    "        with open('token.pickle', 'rb') as token:\n",
    "            creds = pickle.load(token)\n",
    "    # If there are no (valid) credentials available, let the user log in.\n",
    "    if not creds or not creds.valid:\n",
    "        if creds and creds.expired and creds.refresh_token:\n",
    "            creds.refresh(Request())\n",
    "        else:\n",
    "            flow = InstalledAppFlow.from_client_secrets_file(\n",
    "                'gmail_credentials.json', SCOPES)\n",
    "            creds = flow.run_local_server(port=0)\n",
    "        # Save the credentials for the next run\n",
    "        with open('token.pickle', 'wb') as token:\n",
    "            pickle.dump(creds, token)\n",
    "\n",
    "    service = build('gmail', 'v1', credentials=creds)\n",
    "\n",
    "    # Call the Gmail API\n",
    "    results = service.users().messages()\n",
    "    user_id = \"birdyanddoggy@gmail.com\"\n",
    "    query = \"food, august\"\n",
    "    query_results = results.list(userId= user_id, q=query).execute()\n",
    "    msg = query_results[\"messages\"][0]\n",
    "#     return results.list(userId= user_id, q=query).execute()\n",
    "    msg_id = msg[\"id\"]\n",
    "#     print(msg_id)\n",
    "    message = service.users().messages().get(userId=user_id, id=msg_id,\n",
    "                                             format='raw').execute()\n",
    "    message_snippet = message[\"snippet\"]\n",
    "    return message_snippet\n",
    "    \n"
   ]
  },
  {
   "cell_type": "code",
   "execution_count": 6,
   "metadata": {
    "scrolled": true
   },
   "outputs": [
    {
     "name": "stdout",
     "output_type": "stream",
     "text": [
      "message snip  We&#39;d like to invite you to an event on Saturday, August 17th 2019 at 6pm. There will be free food.\n",
      "Hello Worlds\n",
      "2019-08-17 18:00:00\n"
     ]
    }
   ],
   "source": [
    "# query_results = main()\n",
    "# print(query_results)\n",
    "print(\"message snip \", main())\n",
    "matches = datefinder.find_dates(main())\n",
    "\n",
    "for match in matches:\n",
    "    print(\"Hello Worlds\")\n",
    "    start = match\n",
    "    print(match)\n",
    "\n",
    "\n",
    "    \n",
    "    "
   ]
  },
  {
   "cell_type": "code",
   "execution_count": 7,
   "metadata": {},
   "outputs": [],
   "source": [
    "# query_results[\"messages\"][0]\n",
    "# msg = query_results[\"messages\"][0]\n",
    "# msg_id = msg[\"id\"]\n",
    "# msg_id\n",
    "# print(\"message snippet \", query_results[\"snippet\"])"
   ]
  },
  {
   "cell_type": "code",
   "execution_count": 8,
   "metadata": {},
   "outputs": [],
   "source": [
    "# def create_calendar():\n",
    "#     \"\"\"Shows basic usage of the Gmail API.\n",
    "#     Lists the user's Gmail labels.\n",
    "#     \"\"\"\n",
    "#     creds = None\n",
    "#     # The file token.pickle stores the user's access and refresh tokens, and is\n",
    "#     # created automatically when the authorization flow completes for the first\n",
    "#     # time.\n",
    "#     if os.path.exists('cal_token.pickle'):\n",
    "#         with open('cal_token.pickle', 'rb') as token:\n",
    "#             creds = pickle.load(token)\n",
    "#     # If there are no (valid) credentials available, let the user log in.\n",
    "#     if not creds or not creds.valid:\n",
    "#         if creds and creds.expired and creds.refresh_token:\n",
    "#             creds.refresh(Request())\n",
    "#         else:\n",
    "#             flow = InstalledAppFlow.from_client_secrets_file(\n",
    "#                 'calendar_credentials.json', 'https://www.googleapis.com/auth/calendar')\n",
    "#             creds = flow.run_local_server(port=0)\n",
    "#         # Save the credentials for the next run\n",
    "#         with open('cal_token.pickle', 'wb') as token:\n",
    "#             pickle.dump(creds, token)\n",
    "\n",
    "#     service = build('calendar', 'v3', credentials=creds)\n",
    "    \n",
    "#     # calendar api call\n",
    "#     event = {\n",
    "#         'start': {\n",
    "#             'dateTime': '2019-08-17T08:00:00-07:00',\n",
    "#             'timeZone': 'America/Los_Angeles'\n",
    "#         },\n",
    "#         'end': {\n",
    "#             'dateTime':'2019-08-17T23:00:00-07:00',\n",
    "#             'timeZone': 'America/Los_Angeles'\n",
    "#         }\n",
    "#     }\n",
    "#     calendar = \"birdyanddoggy@gmail.com\"\n",
    "#     return service.events().insert(calendarId=calendar, body=event).execute()\n",
    "    "
   ]
  },
  {
   "cell_type": "code",
   "execution_count": 9,
   "metadata": {
    "scrolled": false
   },
   "outputs": [
    {
     "name": "stdout",
     "output_type": "stream",
     "text": [
      "Event created: %s https://www.google.com/calendar/event?eid=YjNkNWthZWxnMzdjOXYzajU1dGJjdnVncWsgYmlyZHlhbmRkb2dneUBt\n"
     ]
    }
   ],
   "source": [
    "event = create_calendar()\n",
    "print ('Event created: ', (event.get('htmlLink')))"
   ]
  },
  {
   "cell_type": "code",
   "execution_count": 19,
   "metadata": {},
   "outputs": [],
   "source": [
    "def quick_add():\n",
    "    \"\"\"Shows basic usage of the Gmail API.\n",
    "    Lists the user's Gmail labels.\n",
    "    \"\"\"\n",
    "    creds = None\n",
    "    # The file token.pickle stores the user's access and refresh tokens, and is\n",
    "    # created automatically when the authorization flow completes for the first\n",
    "    # time.\n",
    "    if os.path.exists('cal_token.pickle'):\n",
    "        with open('cal_token.pickle', 'rb') as token:\n",
    "            creds = pickle.load(token)\n",
    "    # If there are no (valid) credentials available, let the user log in.\n",
    "    if not creds or not creds.valid:\n",
    "        if creds and creds.expired and creds.refresh_token:\n",
    "            creds.refresh(Request())\n",
    "        else:\n",
    "            flow = InstalledAppFlow.from_client_secrets_file(\n",
    "                'calendar_credentials.json', 'https://www.googleapis.com/auth/calendar')\n",
    "            creds = flow.run_local_server(port=0)\n",
    "        # Save the credentials for the next run\n",
    "        with open('cal_token.pickle', 'wb') as token:\n",
    "            pickle.dump(creds, token)\n",
    "\n",
    "    service = build('calendar', 'v3', credentials=creds)\n",
    "    \n",
    "    created_event = service.events().quickAdd(\n",
    "        calendarId='birdyanddoggy@gmail.com',\n",
    "        text='like to invite you to an event on Saturday, August 17th 2019 at 6pm. There will be free food.').execute()\n",
    "    return created_event"
   ]
  },
  {
   "cell_type": "code",
   "execution_count": 20,
   "metadata": {},
   "outputs": [
    {
     "name": "stdout",
     "output_type": "stream",
     "text": [
      "{'kind': 'calendar#event', 'etag': '\"3131590006948000\"', 'id': '4vbmk39jcbkqrulojsuf9a3t58', 'status': 'confirmed', 'htmlLink': 'https://www.google.com/calendar/event?eid=NHZibWszOWpjYmtxcnVsb2pzdWY5YTN0NTggYmlyZHlhbmRkb2dneUBt', 'created': '2019-08-14T15:03:23.000Z', 'updated': '2019-08-14T15:03:23.474Z', 'summary': 'like to invite you to an event There will be free food.', 'creator': {'email': 'birdyanddoggy@gmail.com', 'self': True}, 'organizer': {'email': 'birdyanddoggy@gmail.com', 'self': True}, 'start': {'dateTime': '2019-08-17T18:00:00-04:00'}, 'end': {'dateTime': '2019-08-17T19:00:00-04:00'}, 'iCalUID': '4vbmk39jcbkqrulojsuf9a3t58@google.com', 'sequence': 0, 'reminders': {'useDefault': True}}\n"
     ]
    }
   ],
   "source": [
    "event = quick_add()\n",
    "print(event)"
   ]
  },
  {
   "cell_type": "code",
   "execution_count": null,
   "metadata": {},
   "outputs": [],
   "source": []
  },
  {
   "cell_type": "code",
   "execution_count": null,
   "metadata": {},
   "outputs": [],
   "source": []
  }
 ],
 "metadata": {
  "kernelspec": {
   "display_name": "Python 3",
   "language": "python",
   "name": "python3"
  },
  "language_info": {
   "codemirror_mode": {
    "name": "ipython",
    "version": 3
   },
   "file_extension": ".py",
   "mimetype": "text/x-python",
   "name": "python",
   "nbconvert_exporter": "python",
   "pygments_lexer": "ipython3",
   "version": "3.7.4"
  }
 },
 "nbformat": 4,
 "nbformat_minor": 2
}
